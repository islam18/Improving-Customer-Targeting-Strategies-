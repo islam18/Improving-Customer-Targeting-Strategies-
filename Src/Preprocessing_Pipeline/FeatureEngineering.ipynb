{
  "cells": [
    {
      "cell_type": "markdown",
      "metadata": {
        "colab_type": "text",
        "id": "view-in-github"
      },
      "source": [
        "<a href=\"https://colab.research.google.com/github/ankit986/HEALTH-INSURANCE-CROSS-SELL-PREDICTION/blob/main/HEALTH_INSURANCE_CROSS_SELL_PREDICTION.ipynb\" target=\"_parent\"><img src=\"https://colab.research.google.com/assets/colab-badge.svg\" alt=\"Open In Colab\"/></a>"
      ]
    },
    {
      "cell_type": "markdown",
      "metadata": {
        "id": "nGvmbFMDOHI0"
      },
      "source": [
        "# **Importing Libraries**\n",
        "---"
      ]
    },
    {
      "cell_type": "code",
      "execution_count": 14,
      "metadata": {
        "cellView": "form",
        "id": "F_l6t70Z-mmt"
      },
      "outputs": [],
      "source": [
        "#@title\n",
        "\n",
        "# Basic\n",
        "import numpy as np\n",
        "import pandas as pd\n",
        "\n",
        "# Plotation\n",
        "import matplotlib.pyplot as plt\n",
        "import seaborn as sns\n",
        "import plotly.express as px\n",
        "%matplotlib inline\n",
        "\n",
        "# ML Models\n",
        "from sklearn.naive_bayes import GaussianNB\n",
        "from sklearn.ensemble import BaggingClassifier\n",
        "from sklearn.ensemble import RandomForestClassifier\n",
        "from sklearn.tree import DecisionTreeClassifier\n",
        "from sklearn.neighbors import KNeighborsClassifier\n",
        "from sklearn.linear_model import LogisticRegression\n",
        "import lightgbm as lgb\n",
        "\n",
        "# Evaluation Metrics\n",
        "from sklearn.metrics import accuracy_score\n",
        "from sklearn.metrics import balanced_accuracy_score\n",
        "from imblearn.metrics import geometric_mean_score\n",
        "from sklearn.metrics import confusion_matrix\n",
        "from sklearn.metrics import f1_score\n",
        "from sklearn.metrics import roc_curve\n",
        "from sklearn.metrics import roc_auc_score\n",
        "from sklearn.metrics import precision_score\n",
        "from sklearn.metrics import recall_score\n",
        "from sklearn.metrics import log_loss\n",
        "\n",
        "# Hyper Parameter Tuning\n",
        "from sklearn.model_selection import GridSearchCV\n",
        "from sklearn.model_selection import RandomizedSearchCV\n",
        "from sklearn.experimental import enable_halving_search_cv\n",
        "from sklearn.model_selection import HalvingRandomSearchCV\n",
        "\n",
        "# Miscellaneous\n",
        "import time\n",
        "from sklearn.preprocessing import MinMaxScaler\n",
        "from sklearn.feature_selection import mutual_info_classif\n",
        "from sklearn.model_selection import train_test_split\n",
        "import warnings\n",
        "warnings.filterwarnings('ignore')"
      ]
    },
    {
      "cell_type": "markdown",
      "metadata": {
        "id": "kwFVl3x9Q4p1"
      },
      "source": [
        "# **Reading Dataset**\n",
        "---"
      ]
    },
    {
      "cell_type": "markdown",
      "metadata": {
        "id": "lTmJmDt1DMut"
      },
      "source": [
        "Let's read the dataset we have to work on! We have a dataset of Health Insurance details.\n"
      ]
    },
    {
      "cell_type": "code",
      "execution_count": 15,
      "metadata": {
        "id": "3ha80Laz_MU9"
      },
      "outputs": [],
      "source": [
        "train = pd.read_csv(\"C:\\\\Users\\\\USER-PC\\\\Desktop\\\\ThesisCode\\\\Data\\\\Raw\\\\balanced_dataset_colon.csv\")\n",
        "test  = pd.read_csv('C:\\\\Users\\\\USER-PC\\\\Desktop\\\\ThesisCode\\\\Data\\\\Preprocessed\\\\aug_test_processed.csv')\n",
        "answers = np.load('C:\\\\Users\\\\USER-PC\\\\Desktop\\\\ThesisCode\\\\Data\\\\Raw\\\\answer.npy')\n",
        "\n",
        "# Separate features and target\n",
        "X_train = train.drop('Response', axis=1)\n",
        "y_train = train['Response']\n",
        "X_test = test.drop('id', axis=1)  # Assuming 'id' column is not needed for prediction\n"
      ]
    },
    {
      "cell_type": "markdown",
      "metadata": {
        "id": "suRP-nmZXtie"
      },
      "source": [
        "# **Machine Learning Algorithms**\n",
        "---\n"
      ]
    },
    {
      "cell_type": "markdown",
      "metadata": {
        "id": "5qLqso92DETG"
      },
      "source": [
        "Let's apply different Machine Learning Models to our data set and see how each of them performs. Firstly, We will tune the hyper-parameters of those models and then we will compare and choose the best model among them, based on Elapsed Time and Evaluation Metrics of the best parameters. \n",
        "\n",
        "List of **Machine Learning Models** we are going to train and evaluate our data set on:\n",
        "- Decision Tree\n",
        "- Gaussian Naive Bayes\n",
        "- AdaBoost Classifier\n",
        "- Bagging Classifier\n",
        "- LightGBM\n",
        "- Logistic Regression\n",
        "\n",
        "###**Hyper-Parameter Tuning Methods:**\n",
        "\n",
        "We have tried different hyper-parameter tuning methods. Every method gave the same result but **GridSearchCV** and **RandomizedSearchCV** took a huge amount of time to train the models. **HalvingRandomizedSearchCV** took the least time to train the models and predict the output. That's why we highly ***recommend*** you to keep the Tuning_Method as Halving_Randomized_Search_CV from the drop-down menu below.\n",
        "\n",
        "We have also added some results of the model tuning with GridSearchCV and RandomizedSearchCV, just for performance comparison.\n",
        "\n",
        "#### **Tuning Methods:**\n",
        "- HalvingRandomizedSearchCV\n",
        "- GridSearchCV\n",
        "- RandomizedSearchCV\n",
        "\n",
        "### **Evaluation Metrics:**\n",
        "- Accuracy Score\n",
        "- Precision\n",
        "- Recall\n",
        "- F1 Score\n",
        "- ROC AUC Score\n",
        "- Log Loss\n",
        "\n",
        "### **Plots:**\n",
        "\n",
        "At the end of every model's hyper-parameter tuning, there is one **ROC Curve** which shows the ROC Scores and **Parallel Coordinates Plot** which shows all the combinations of hyper-parameters used for tuning the model to get the best parameters.\n"
      ]
    },
    {
      "cell_type": "markdown",
      "metadata": {
        "id": "qDRY-1SqesQR"
      },
      "source": [
        "*Let's get started...!*"
      ]
    },
    {
      "cell_type": "code",
      "execution_count": 16,
      "metadata": {
        "id": "LKcu89vqq91u"
      },
      "outputs": [],
      "source": [
        "def plot_confusion_matrix_and_roc_curves(model, X_test, y_test, y_pred):\n",
        "\n",
        "    pred_proba = model.predict_proba(X_test)[:, 1]\n",
        "\n",
        "    # Calculate ROC curve\n",
        "    fpr, tpr, _ = roc_curve(y_test, pred_proba, pos_label=1)\n",
        "\n",
        "    # Plot the ROC curve\n",
        "    plt.figure(figsize=(10, 6))  # Set the figure size as needed\n",
        "    plt.plot(fpr, tpr, linestyle='--', color='red', label=f'{type(model).__name__} (AUC = {roc_auc_score(y_test, pred_proba):.2f})')\n",
        "    plt.plot([0, 1], [0, 1], linestyle='-', color='blue')  # This is the line for random chance\n",
        "\n",
        "    # Adding labels and title\n",
        "    plt.title('ROC Curve', fontdict={'fontsize': 16, 'fontweight': 'bold'})\n",
        "    plt.xlabel('False Positive Rate', fontdict={'fontsize': 12})\n",
        "    plt.ylabel('True Positive Rate', fontdict={'fontsize': 12})\n",
        "\n",
        "    # Adding a legend\n",
        "    plt.legend(loc='best')\n",
        "    plt.show()\n",
        "\n",
        "\n",
        "def visualization(results_df, parameters):    \n",
        "\n",
        "    def shorten_param(param_name):\n",
        "        if \"__\" in param_name:\n",
        "            return param_name.rsplit(\"__\", 1)[1]\n",
        "        return param_name\n",
        "\n",
        "    column_results = [f\"param_{name}\" for name in parameters.keys()]\n",
        "    column_results += [\"mean_test_score\", \"std_test_score\", \"rank_test_score\"]\n",
        "\n",
        "    results_df = results_df[column_results].sort_values(\"mean_test_score\", ascending=False)\n",
        "    results_df = results_df.rename(shorten_param, axis=1)\n",
        "\n",
        "    for col in results_df.columns:\n",
        "        if col == 'param_random_state':\n",
        "            continue\n",
        "        try:\n",
        "            results_df[col] = results_df[col].astype(np.float64)\n",
        "        except:\n",
        "            continue\n",
        "\n",
        "    fig = px.parallel_coordinates(\n",
        "    results_df,\n",
        "    color=\"mean_test_score\",\n",
        "    color_continuous_scale=px.colors.sequential.Viridis,\n",
        "    title='Hyper Parameter Tuning',)\n",
        "    fig.show()\n",
        "\n",
        "\n",
        "def evaluation_metrics(name, independent_feature_length , y_pred, y_test):\n",
        "\n",
        "    metrics_dict = {}\n",
        "    metrics_dict['Accuracy_Score'] = [balanced_accuracy_score(y_test,y_pred)]  #Accuracy Score\n",
        "    metrics_dict['Geo Mean'] = [geometric_mean_score(y_test,y_pred)] #Precision\n",
        "    metrics_dict['Recall'] = [recall_score(y_test,y_pred)] #Recall\n",
        "    metrics_dict['F1_Score'] = [f1_score(y_test,y_pred)] #F1 Score\n",
        "    metrics_dict['ROC_AUC_Score'] = [roc_auc_score(y_test, y_pred)] #ROC AUC Score\n",
        "    metrics_dict['Log_Loss'] = [log_loss(y_test, y_pred)] #Log Loss\n",
        "\n",
        "    metrics_df = pd.DataFrame(metrics_dict)\n",
        "\n",
        "    print(metrics_df)\n",
        "\n",
        "\n",
        "def hyperparameter_tuning(x_train, y_train, model, parameters, tuning_model):\n",
        "\n",
        "    if tuning_model == 'Halving_Randomized_Search_CV':\n",
        "        tuned_model = HalvingRandomSearchCV(model, param_distributions = parameters, scoring = \"accuracy\", n_jobs=-1, factor=3, cv = 5 )\n",
        "    \n",
        "    elif tuning_model == 'Randomized_Search_CV':\n",
        "        tuned_model = RandomizedSearchCV(model, param_distributions = parameters, scoring = 'accuracy', cv = 3, n_iter = 50, n_jobs=-1)\n",
        "\n",
        "    else:\n",
        "        tuned_mode = GridSearchCV(model, param_grid = parameters, scoring = 'accuracy', n_jobs=-1, cv = 3)\n",
        "\n",
        "    \n",
        "    start_time = time.time() \n",
        "    \n",
        "    tuned_model.fit(x_train, y_train)\n",
        "    \n",
        "    stop_time = time.time()\n",
        "\n",
        "    print('*****'*10+f'\\nBest Score for {type(model).__name__} : {tuned_model.best_score_}','\\n---')\n",
        "    print(f'Best Parameters for {type(model).__name__} : {tuned_model.best_params_}\\n'+'-----'*10)\n",
        "\n",
        "    print('Elapsed Time:',time.strftime(\"%H:%M:%S\", time.gmtime(stop_time - start_time)))\n",
        "    print('======'*5)\n",
        "\n",
        "    return tuned_model\n",
        "\n",
        "\n",
        "def perform_ml_algorithm(x_train, x_test, y_train, y_test, model, parameters, tuning_model):\n",
        "    print('-----'*10+f'\\n{type(model).__name__}\\n'+'-----'*10)\n",
        "\n",
        "    model.fit(x_train, y_train)\n",
        "    untuned_pred = model.predict(x_test)\n",
        "\n",
        "    # Evaluation Metrics before tuning\n",
        "    print(f'\\nEvaluation of {type(model).__name__} before tuning:\\n'+'-----'*10)\n",
        "    evaluation_metrics(type(model).__name__, len(list(x_train.columns)), untuned_pred, y_test)\n",
        "\n",
        "    print()\n",
        "    plot_confusion_matrix_and_roc_curves(model, x_test, y_test, untuned_pred)\n",
        "\n",
        "    # Hyper-parameter tuning\n",
        "    tuned_model = hyperparameter_tuning(x_train, y_train, model, parameters, tuning_model)\n",
        "    tuned_pred = tuned_model.predict(x_test)\n",
        "  \n",
        "    # Evaluation Metrics after tuning\n",
        "    print(f'\\nEvaluation of {type(model).__name__} after tuning:\\n'+'-----'*10)\n",
        "    evaluation_metrics(type(model).__name__,len(list(x_train.columns)), tuned_pred, y_test)\n",
        "\n",
        "    print()\n",
        "    plot_confusion_matrix_and_roc_curves(tuned_model.best_estimator_, x_test, y_test, tuned_pred)\n",
        "    visualization(pd.DataFrame(tuned_model.cv_results_), parameters)\n",
        "\n",
        "\n",
        "def ml_algorithm_implementation(df, model, parameters, tuning_model, feature_importance = False):\n",
        "\n",
        "    if feature_importance == False:\n",
        "        print('########'*8+'\\n     <<<< '+f'Tuning Model: {tuning_model}'+' >>>>\\n'+'********'*8)\n",
        "\n",
        "    # Load your datasets\n",
        "    train_data = pd.read_csv('C:\\\\Users\\\\USER-PC\\\\Desktop\\\\ThesisCode\\\\Data\\\\Raw\\\\balanced_dataset_colon.csv')\n",
        "    test_data = pd.read_csv('C:\\\\Users\\\\USER-PC\\\\Desktop\\\\ThesisCode\\\\Data\\\\Preprocessed\\\\aug_test_processed.csv')\n",
        "    answers = np.load('C:\\\\Users\\\\USER-PC\\\\Desktop\\\\ThesisCode\\\\Data\\\\Raw\\\\answer.npy')\n",
        "\n",
        "    # Separate features and target\n",
        "    X_train_full = train_data.drop('Response', axis=1)\n",
        "    y_train_full = train_data['Response']\n",
        "    X_test = test_data.drop('id', axis=1)  # Assuming 'id' column is not needed for prediction\n",
        "\n",
        "    # Initialize the scaler\n",
        "    scaler = MinMaxScaler()\n",
        "\n",
        "    # List of numerical columns to scale\n",
        "    columns_to_scale = ['Policy_Sales_Channel', 'Vintage', 'Annual_Premium_Treated']\n",
        "\n",
        "    # Scaling only the specified columns in the training data\n",
        "    X_train_scaled = X_train_full.copy()  # Create a copy to avoid changing the original data\n",
        "    X_train_scaled[columns_to_scale] = scaler.fit_transform(X_train_full[columns_to_scale])\n",
        "\n",
        "    # Scaling only the specified columns in the test data using the same scaler\n",
        "    X_test_scaled = X_test.copy()  # Create a copy to avoid changing the original data\n",
        "    X_test_scaled[columns_to_scale] = scaler.transform(X_test[columns_to_scale])\n",
        "\n",
        "\n",
        "    # Split the train data into training and validation sets\n",
        "    X_train, X_val, y_train, y_val = train_test_split(X_train_scaled, y_train_full, test_size=0.2, random_state=42)\n",
        "    if feature_importance == True:\n",
        "        model.fit(X_train, y_train)\n",
        "        return X_train, y_train, model\n",
        "\n",
        "    perform_ml_algorithm(X_train, X_test_scaled, y_train, answers, model, parameters, tuning_model)"
      ]
    },
    {
      "cell_type": "code",
      "execution_count": 17,
      "metadata": {
        "cellView": "form",
        "id": "zIAggphiP4ez"
      },
      "outputs": [],
      "source": [
        "#@title Keep it Halving_Randomized_Search_CV!! Other methods are time consuming.\n",
        "Tuning_Method = \"Halving_Randomized_Search_CV\" #@param [\"Halving_Randomized_Search_CV\", \"Grid_Search_CV\", \"Randomized_Search_CV\"]"
      ]
    },
    {
      "cell_type": "code",
      "execution_count": 18,
      "metadata": {},
      "outputs": [],
      "source": [
        "\n",
        "def feature_plot(importances, X_train, y_train):\n",
        "    \n",
        "    # Display the five most important features\n",
        "    indices = np.argsort(importances)[::-1]\n",
        "    columns = X_train.columns.values[indices[:5]]\n",
        "    values = importances[indices][:5]\n",
        "\n",
        "    # Creat the plot\n",
        "    fig = plt.figure(figsize = (9,5))\n",
        "    plt.title(\"Normalized Weights for First Five Most Predictive Features\", fontsize = 16)\n",
        "    plt.bar(np.arange(5), values, width = 0.2, align=\"center\", color = '#00A000', \\\n",
        "          label = \"Feature Weight\")\n",
        "    plt.bar(np.arange(5) - 0.2, np.cumsum(values), width = 0.2, align = \"center\", color = '#00A0A0', \\\n",
        "          label = \"Cumulative Feature Weight\")\n",
        "    plt.xticks(np.arange(5), columns)\n",
        "    plt.xlim((-0.5, 4.5))\n",
        "    plt.ylabel(\"Weight\", fontsize = 12)\n",
        "    plt.xlabel(\"Feature\", fontsize = 12)\n",
        "    \n",
        "    plt.legend(loc = 'upper center')\n",
        "    plt.tight_layout()\n",
        "    plt.show()\n",
        "\n",
        "def show_feature_importance():\n",
        "    x_train, y_train, model = ml_algorithm_implementation(train, RandomForestClassifier(n_estimators=200, random_state=23), \n",
        "                                None, None, True)\n",
        "    \n",
        "    importances = np.mean([\n",
        "        tree.feature_importances_ for tree in model.estimators_\n",
        "        ], axis=0)\n",
        "    feature_plot(importances, x_train, y_train)"
      ]
    },
    {
      "cell_type": "code",
      "execution_count": 19,
      "metadata": {},
      "outputs": [
        {
          "data": {
            "image/png": "[encoded data removed]",
            "text/plain": [
              "<Figure size 900x500 with 1 Axes>"
            ]
          },
          "metadata": {},
          "output_type": "display_data"
        }
      ],
      "source": [
        "show_feature_importance()"
      ]
    },
    {
      "cell_type": "code",
      "execution_count": 20,
      "metadata": {},
      "outputs": [
        {
          "ename": "KeyError",
          "evalue": "'Response'",
          "output_type": "error",
          "traceback": [
            "\u001b[1;31m---------------------------------------------------------------------------\u001b[0m",
            "\u001b[1;31mKeyError\u001b[0m                                  Traceback (most recent call last)",
            "File \u001b[1;32m~\\AppData\\Local\\Packages\\PythonSoftwareFoundation.Python.3.11_qbz5n2kfra8p0\\LocalCache\\local-packages\\Python311\\site-packages\\pandas\\core\\indexes\\base.py:3805\u001b[0m, in \u001b[0;36mIndex.get_loc\u001b[1;34m(self, key)\u001b[0m\n\u001b[0;32m   3804\u001b[0m \u001b[38;5;28;01mtry\u001b[39;00m:\n\u001b[1;32m-> 3805\u001b[0m     \u001b[38;5;28;01mreturn\u001b[39;00m \u001b[38;5;28;43mself\u001b[39;49m\u001b[38;5;241;43m.\u001b[39;49m\u001b[43m_engine\u001b[49m\u001b[38;5;241;43m.\u001b[39;49m\u001b[43mget_loc\u001b[49m\u001b[43m(\u001b[49m\u001b[43mcasted_key\u001b[49m\u001b[43m)\u001b[49m\n\u001b[0;32m   3806\u001b[0m \u001b[38;5;28;01mexcept\u001b[39;00m \u001b[38;5;167;01mKeyError\u001b[39;00m \u001b[38;5;28;01mas\u001b[39;00m err:\n",
            "File \u001b[1;32mindex.pyx:167\u001b[0m, in \u001b[0;36mpandas._libs.index.IndexEngine.get_loc\u001b[1;34m()\u001b[0m\n",
            "File \u001b[1;32mindex.pyx:196\u001b[0m, in \u001b[0;36mpandas._libs.index.IndexEngine.get_loc\u001b[1;34m()\u001b[0m\n",
            "File \u001b[1;32mpandas\\\\_libs\\\\hashtable_class_helper.pxi:7081\u001b[0m, in \u001b[0;36mpandas._libs.hashtable.PyObjectHashTable.get_item\u001b[1;34m()\u001b[0m\n",
            "File \u001b[1;32mpandas\\\\_libs\\\\hashtable_class_helper.pxi:7089\u001b[0m, in \u001b[0;36mpandas._libs.hashtable.PyObjectHashTable.get_item\u001b[1;34m()\u001b[0m\n",
            "\u001b[1;31mKeyError\u001b[0m: 'Response'",
            "\nThe above exception was the direct cause of the following exception:\n",
            "\u001b[1;31mKeyError\u001b[0m                                  Traceback (most recent call last)",
            "Cell \u001b[1;32mIn[20], line 48\u001b[0m\n\u001b[0;32m     45\u001b[0m     plt\u001b[38;5;241m.\u001b[39mylabel(\u001b[38;5;124m'\u001b[39m\u001b[38;5;124mScore\u001b[39m\u001b[38;5;124m'\u001b[39m, fontdict\u001b[38;5;241m=\u001b[39m{\u001b[38;5;124m'\u001b[39m\u001b[38;5;124mfontsize\u001b[39m\u001b[38;5;124m'\u001b[39m:\u001b[38;5;241m18\u001b[39m})\n\u001b[0;32m     46\u001b[0m     plt\u001b[38;5;241m.\u001b[39mxticks(rotation\u001b[38;5;241m=\u001b[39m\u001b[38;5;241m90\u001b[39m)\n\u001b[1;32m---> 48\u001b[0m \u001b[43mshow_feature_importance_through_mi\u001b[49m\u001b[43m(\u001b[49m\u001b[43mX_train_scaled\u001b[49m\u001b[43m)\u001b[49m\n",
            "Cell \u001b[1;32mIn[20], line 42\u001b[0m, in \u001b[0;36mshow_feature_importance_through_mi\u001b[1;34m(df)\u001b[0m\n\u001b[0;32m     41\u001b[0m \u001b[38;5;28;01mdef\u001b[39;00m \u001b[38;5;21mshow_feature_importance_through_mi\u001b[39m(df):\n\u001b[1;32m---> 42\u001b[0m     sns\u001b[38;5;241m.\u001b[39mbarplot(data \u001b[38;5;241m=\u001b[39m \u001b[43mmutual_info\u001b[49m\u001b[43m(\u001b[49m\u001b[43mdf\u001b[49m\u001b[43m)\u001b[49m, x \u001b[38;5;241m=\u001b[39m \u001b[38;5;124m'\u001b[39m\u001b[38;5;124mFeature\u001b[39m\u001b[38;5;124m'\u001b[39m, y\u001b[38;5;241m=\u001b[39m\u001b[38;5;124m'\u001b[39m\u001b[38;5;124mScore\u001b[39m\u001b[38;5;124m'\u001b[39m)\n\u001b[0;32m     43\u001b[0m     plt\u001b[38;5;241m.\u001b[39mtitle(\u001b[38;5;124m'\u001b[39m\u001b[38;5;124mFeature Importance Using Mutual Information\u001b[39m\u001b[38;5;124m'\u001b[39m, fontdict\u001b[38;5;241m=\u001b[39m{\u001b[38;5;124m'\u001b[39m\u001b[38;5;124mfontsize\u001b[39m\u001b[38;5;124m'\u001b[39m:\u001b[38;5;241m22\u001b[39m,\u001b[38;5;124m'\u001b[39m\u001b[38;5;124mfontweight\u001b[39m\u001b[38;5;124m'\u001b[39m:\u001b[38;5;124m'\u001b[39m\u001b[38;5;124mbold\u001b[39m\u001b[38;5;124m'\u001b[39m})\n\u001b[0;32m     44\u001b[0m     plt\u001b[38;5;241m.\u001b[39mxlabel(\u001b[38;5;124m'\u001b[39m\u001b[38;5;124mFeatures\u001b[39m\u001b[38;5;124m'\u001b[39m, fontdict\u001b[38;5;241m=\u001b[39m{\u001b[38;5;124m'\u001b[39m\u001b[38;5;124mfontsize\u001b[39m\u001b[38;5;124m'\u001b[39m:\u001b[38;5;241m18\u001b[39m})\n",
            "Cell \u001b[1;32mIn[20], line 22\u001b[0m, in \u001b[0;36mmutual_info\u001b[1;34m(df)\u001b[0m\n\u001b[0;32m     20\u001b[0m \u001b[38;5;28;01mdef\u001b[39;00m \u001b[38;5;21mmutual_info\u001b[39m(df):\n\u001b[0;32m     21\u001b[0m     X \u001b[38;5;241m=\u001b[39m X_train_scaled\u001b[38;5;241m.\u001b[39mcopy()\n\u001b[1;32m---> 22\u001b[0m     y \u001b[38;5;241m=\u001b[39m \u001b[43mX\u001b[49m\u001b[38;5;241;43m.\u001b[39;49m\u001b[43mpop\u001b[49m\u001b[43m(\u001b[49m\u001b[38;5;124;43m\"\u001b[39;49m\u001b[38;5;124;43mResponse\u001b[39;49m\u001b[38;5;124;43m\"\u001b[39;49m\u001b[43m)\u001b[49m\n\u001b[0;32m     25\u001b[0m     high_score_features \u001b[38;5;241m=\u001b[39m []\n\u001b[0;32m     26\u001b[0m     feature_scores \u001b[38;5;241m=\u001b[39m mutual_info_classif( X, y,  random_state\u001b[38;5;241m=\u001b[39m\u001b[38;5;241m42\u001b[39m)\n",
            "File \u001b[1;32m~\\AppData\\Local\\Packages\\PythonSoftwareFoundation.Python.3.11_qbz5n2kfra8p0\\LocalCache\\local-packages\\Python311\\site-packages\\pandas\\core\\frame.py:5806\u001b[0m, in \u001b[0;36mDataFrame.pop\u001b[1;34m(self, item)\u001b[0m\n\u001b[0;32m   5765\u001b[0m \u001b[38;5;28;01mdef\u001b[39;00m \u001b[38;5;21mpop\u001b[39m(\u001b[38;5;28mself\u001b[39m, item: Hashable) \u001b[38;5;241m-\u001b[39m\u001b[38;5;241m>\u001b[39m Series:\n\u001b[0;32m   5766\u001b[0m \u001b[38;5;250m    \u001b[39m\u001b[38;5;124;03m\"\"\"\u001b[39;00m\n\u001b[0;32m   5767\u001b[0m \u001b[38;5;124;03m    Return item and drop from frame. Raise KeyError if not found.\u001b[39;00m\n\u001b[0;32m   5768\u001b[0m \n\u001b[1;32m   (...)\u001b[0m\n\u001b[0;32m   5804\u001b[0m \u001b[38;5;124;03m    3  monkey        NaN\u001b[39;00m\n\u001b[0;32m   5805\u001b[0m \u001b[38;5;124;03m    \"\"\"\u001b[39;00m\n\u001b[1;32m-> 5806\u001b[0m     \u001b[38;5;28;01mreturn\u001b[39;00m \u001b[38;5;28;43msuper\u001b[39;49m\u001b[43m(\u001b[49m\u001b[43m)\u001b[49m\u001b[38;5;241;43m.\u001b[39;49m\u001b[43mpop\u001b[49m\u001b[43m(\u001b[49m\u001b[43mitem\u001b[49m\u001b[38;5;241;43m=\u001b[39;49m\u001b[43mitem\u001b[49m\u001b[43m)\u001b[49m\n",
            "File \u001b[1;32m~\\AppData\\Local\\Packages\\PythonSoftwareFoundation.Python.3.11_qbz5n2kfra8p0\\LocalCache\\local-packages\\Python311\\site-packages\\pandas\\core\\generic.py:946\u001b[0m, in \u001b[0;36mNDFrame.pop\u001b[1;34m(self, item)\u001b[0m\n\u001b[0;32m    945\u001b[0m \u001b[38;5;28;01mdef\u001b[39;00m \u001b[38;5;21mpop\u001b[39m(\u001b[38;5;28mself\u001b[39m, item: Hashable) \u001b[38;5;241m-\u001b[39m\u001b[38;5;241m>\u001b[39m Series \u001b[38;5;241m|\u001b[39m Any:\n\u001b[1;32m--> 946\u001b[0m     result \u001b[38;5;241m=\u001b[39m \u001b[38;5;28;43mself\u001b[39;49m\u001b[43m[\u001b[49m\u001b[43mitem\u001b[49m\u001b[43m]\u001b[49m\n\u001b[0;32m    947\u001b[0m     \u001b[38;5;28;01mdel\u001b[39;00m \u001b[38;5;28mself\u001b[39m[item]\n\u001b[0;32m    949\u001b[0m     \u001b[38;5;28;01mreturn\u001b[39;00m result\n",
            "File \u001b[1;32m~\\AppData\\Local\\Packages\\PythonSoftwareFoundation.Python.3.11_qbz5n2kfra8p0\\LocalCache\\local-packages\\Python311\\site-packages\\pandas\\core\\frame.py:4090\u001b[0m, in \u001b[0;36mDataFrame.__getitem__\u001b[1;34m(self, key)\u001b[0m\n\u001b[0;32m   4088\u001b[0m \u001b[38;5;28;01mif\u001b[39;00m \u001b[38;5;28mself\u001b[39m\u001b[38;5;241m.\u001b[39mcolumns\u001b[38;5;241m.\u001b[39mnlevels \u001b[38;5;241m>\u001b[39m \u001b[38;5;241m1\u001b[39m:\n\u001b[0;32m   4089\u001b[0m     \u001b[38;5;28;01mreturn\u001b[39;00m \u001b[38;5;28mself\u001b[39m\u001b[38;5;241m.\u001b[39m_getitem_multilevel(key)\n\u001b[1;32m-> 4090\u001b[0m indexer \u001b[38;5;241m=\u001b[39m \u001b[38;5;28;43mself\u001b[39;49m\u001b[38;5;241;43m.\u001b[39;49m\u001b[43mcolumns\u001b[49m\u001b[38;5;241;43m.\u001b[39;49m\u001b[43mget_loc\u001b[49m\u001b[43m(\u001b[49m\u001b[43mkey\u001b[49m\u001b[43m)\u001b[49m\n\u001b[0;32m   4091\u001b[0m \u001b[38;5;28;01mif\u001b[39;00m is_integer(indexer):\n\u001b[0;32m   4092\u001b[0m     indexer \u001b[38;5;241m=\u001b[39m [indexer]\n",
            "File \u001b[1;32m~\\AppData\\Local\\Packages\\PythonSoftwareFoundation.Python.3.11_qbz5n2kfra8p0\\LocalCache\\local-packages\\Python311\\site-packages\\pandas\\core\\indexes\\base.py:3812\u001b[0m, in \u001b[0;36mIndex.get_loc\u001b[1;34m(self, key)\u001b[0m\n\u001b[0;32m   3807\u001b[0m     \u001b[38;5;28;01mif\u001b[39;00m \u001b[38;5;28misinstance\u001b[39m(casted_key, \u001b[38;5;28mslice\u001b[39m) \u001b[38;5;129;01mor\u001b[39;00m (\n\u001b[0;32m   3808\u001b[0m         \u001b[38;5;28misinstance\u001b[39m(casted_key, abc\u001b[38;5;241m.\u001b[39mIterable)\n\u001b[0;32m   3809\u001b[0m         \u001b[38;5;129;01mand\u001b[39;00m \u001b[38;5;28many\u001b[39m(\u001b[38;5;28misinstance\u001b[39m(x, \u001b[38;5;28mslice\u001b[39m) \u001b[38;5;28;01mfor\u001b[39;00m x \u001b[38;5;129;01min\u001b[39;00m casted_key)\n\u001b[0;32m   3810\u001b[0m     ):\n\u001b[0;32m   3811\u001b[0m         \u001b[38;5;28;01mraise\u001b[39;00m InvalidIndexError(key)\n\u001b[1;32m-> 3812\u001b[0m     \u001b[38;5;28;01mraise\u001b[39;00m \u001b[38;5;167;01mKeyError\u001b[39;00m(key) \u001b[38;5;28;01mfrom\u001b[39;00m \u001b[38;5;21;01merr\u001b[39;00m\n\u001b[0;32m   3813\u001b[0m \u001b[38;5;28;01mexcept\u001b[39;00m \u001b[38;5;167;01mTypeError\u001b[39;00m:\n\u001b[0;32m   3814\u001b[0m     \u001b[38;5;66;03m# If we have a listlike key, _check_indexing_error will raise\u001b[39;00m\n\u001b[0;32m   3815\u001b[0m     \u001b[38;5;66;03m#  InvalidIndexError. Otherwise we fall through and re-raise\u001b[39;00m\n\u001b[0;32m   3816\u001b[0m     \u001b[38;5;66;03m#  the TypeError.\u001b[39;00m\n\u001b[0;32m   3817\u001b[0m     \u001b[38;5;28mself\u001b[39m\u001b[38;5;241m.\u001b[39m_check_indexing_error(key)\n",
            "\u001b[1;31mKeyError\u001b[0m: 'Response'"
          ]
        }
      ],
      "source": [
        "\n",
        "# Load your datasets\n",
        "train_data = pd.read_csv('C:\\\\Users\\\\USER-PC\\\\Desktop\\\\ThesisCode\\\\Data\\\\Raw\\\\balanced_dataset_colon.csv')\n",
        "test_data = pd.read_csv('C:\\\\Users\\\\USER-PC\\\\Desktop\\\\ThesisCode\\\\Data\\\\Preprocessed\\\\aug_test_processed.csv')\n",
        "answers = np.load('C:\\\\Users\\\\USER-PC\\\\Desktop\\\\ThesisCode\\\\Data\\\\Raw\\\\answer.npy')\n",
        "\n",
        "# Separate features and target\n",
        "X_train_full = train_data.drop('Response', axis=1)\n",
        "y_train_full = train_data['Response']\n",
        "\n",
        "# Initialize the scaler\n",
        "scaler = MinMaxScaler()\n",
        "\n",
        "# List of numerical columns to scale\n",
        "columns_to_scale = ['Policy_Sales_Channel', 'Vintage', 'Annual_Premium_Treated']\n",
        "\n",
        "# Scaling only the specified columns in the training data\n",
        "X_train_scaled = X_train_full.copy()  # Create a copy to avoid changing the original data\n",
        "X_train_scaled[columns_to_scale] = scaler.fit_transform(X_train_full[columns_to_scale])\n",
        "\n",
        "def mutual_info(df):\n",
        "    X = X_train_scaled.copy()\n",
        "    y = X.pop(\"Response\")\n",
        "    \n",
        "\n",
        "    high_score_features = []\n",
        "    feature_scores = mutual_info_classif( X, y,  random_state=42)\n",
        "\n",
        "    column_score = {}\n",
        "    columns = []\n",
        "    scores = []\n",
        "    for score, f_name in sorted(zip(feature_scores, X), reverse=True):\n",
        "        columns.append(f_name)\n",
        "        scores.append(score)\n",
        "        high_score_features.append(f_name)\n",
        "\n",
        "    column_score['Feature'] = columns\n",
        "    column_score['Score'] = scores\n",
        "\n",
        "    return pd.DataFrame(data = column_score)\n",
        "\n",
        "def show_feature_importance_through_mi(df):\n",
        "    sns.barplot(data = mutual_info(df), x = 'Feature', y='Score')\n",
        "    plt.title('Feature Importance Using Mutual Information', fontdict={'fontsize':22,'fontweight':'bold'})\n",
        "    plt.xlabel('Features', fontdict={'fontsize':18})\n",
        "    plt.ylabel('Score', fontdict={'fontsize':18})\n",
        "    plt.xticks(rotation=90)\n",
        "\n",
        "show_feature_importance_through_mi(X_train_scaled)"
      ]
    }
  ],
  "metadata": {
    "colab": {
      "collapsed_sections": [
        "nHTB-EbhDhRR",
        "Io7Z-sQzN5pB",
        "kwFVl3x9Q4p1",
        "qM3YsfssRMQh",
        "Pejt34L4eWyE",
        "tCORMPj4X9An",
        "suRP-nmZXtie",
        "7wAHcWSBuGxi",
        "hLbJHhX-Cbdw"
      ],
      "include_colab_link": true,
      "name": "HEALTH INSURANCE CROSS SELL PREDICTION.ipynb",
      "provenance": [],
      "toc_visible": true
    },
    "kernelspec": {
      "display_name": "Python 3",
      "name": "python3"
    },
    "language_info": {
      "codemirror_mode": {
        "name": "ipython",
        "version": 3
      },
      "file_extension": ".py",
      "mimetype": "text/x-python",
      "name": "python",
      "nbconvert_exporter": "python",
      "pygments_lexer": "ipython3",
      "version": "3.11.9"
    }
  },
  "nbformat": 4,
  "nbformat_minor": 0
}
