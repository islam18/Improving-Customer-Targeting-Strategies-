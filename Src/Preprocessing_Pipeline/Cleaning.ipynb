{
 "cells": [
  {
   "cell_type": "markdown",
   "metadata": {},
   "source": [
    "# **Attribute Information**\n",
    "---"
   ]
  },
  {
   "cell_type": "markdown",
   "metadata": {},
   "source": [
    "### **Columns:**\n",
    "> **ID:** Unique identifier for the Customer.\n",
    "\n",
    "> **Age:** Age of the Customer.\n",
    "\n",
    "> **Gender:** Gender of the Customer.\n",
    "\n",
    ">  **Driving_License:** 0 for customer not having DL, 1 for customer having DL.\n",
    "\n",
    "> **Region_Code:** Unique code for the region of the customer.\n",
    "\n",
    "> **Previously_Insured:** 0 for customer not having vehicle insurance, 1 for customer having vehicle insurance.\n",
    "\n",
    "> **Vehicle_Age:** Age of the vehicle.\n",
    "\n",
    "> **Vehicle_Damage:** Customer got his/her vehicle damaged in the past. 0 : Customer didn't get his/her vehicle damaged in the past.\n",
    "\n",
    "> **Annual_Premium:** The amount customer needs to pay as premium in the year.\n",
    "\n",
    "> **Policy_Sales_Channel:** Anonymized Code for the channel of outreaching to the customer ie. Different Agents, Over Mail, Over Phone, In Person, etc.\n",
    "\n",
    "> **Vintage:** Number of Days, Customer has been associated with the company.\n",
    "\n",
    "> **Response (Dependent Feature):** 1 for Customer is interested, 0 for Customer is not interested.\n",
    "\n",
    "*Let's deep dive into the dataset,*"
   ]
  },
  {
   "cell_type": "markdown",
   "metadata": {},
   "source": [
    "### Import Libraries"
   ]
  },
  {
   "cell_type": "code",
   "execution_count": 1,
   "metadata": {},
   "outputs": [],
   "source": [
    "import numpy as np\n",
    "import pandas as pd\n",
    "import seaborn as sns\n",
    "import matplotlib.pyplot as plt\n"
   ]
  },
  {
   "cell_type": "markdown",
   "metadata": {},
   "source": [
    "### Load the Dataset"
   ]
  },
  {
   "cell_type": "code",
   "execution_count": 2,
   "metadata": {},
   "outputs": [
    {
     "data": {
      "text/html": [
       "<div>\n",
       "<style scoped>\n",
       "    .dataframe tbody tr th:only-of-type {\n",
       "        vertical-align: middle;\n",
       "    }\n",
       "\n",
       "    .dataframe tbody tr th {\n",
       "        vertical-align: top;\n",
       "    }\n",
       "\n",
       "    .dataframe thead th {\n",
       "        text-align: right;\n",
       "    }\n",
       "</style>\n",
       "<table border=\"1\" class=\"dataframe\">\n",
       "  <thead>\n",
       "    <tr style=\"text-align: right;\">\n",
       "      <th></th>\n",
       "      <th>id</th>\n",
       "      <th>Gender</th>\n",
       "      <th>Driving_License</th>\n",
       "      <th>Region_Code</th>\n",
       "      <th>Previously_Insured</th>\n",
       "      <th>Vehicle_Age</th>\n",
       "      <th>Vehicle_Damage</th>\n",
       "      <th>Annual_Premium</th>\n",
       "      <th>Policy_Sales_Channel</th>\n",
       "      <th>Vintage</th>\n",
       "      <th>Response</th>\n",
       "      <th>Age_Group</th>\n",
       "    </tr>\n",
       "  </thead>\n",
       "  <tbody>\n",
       "    <tr>\n",
       "      <th>0</th>\n",
       "      <td>a7c4f22e-2a52-4bbf-a626-56cf89dc6442</td>\n",
       "      <td>Male</td>\n",
       "      <td>1</td>\n",
       "      <td>7.0</td>\n",
       "      <td>1</td>\n",
       "      <td>&lt; 1 Year</td>\n",
       "      <td>No</td>\n",
       "      <td>2630.0</td>\n",
       "      <td>152.0</td>\n",
       "      <td>16</td>\n",
       "      <td>0</td>\n",
       "      <td>YoungAge</td>\n",
       "    </tr>\n",
       "    <tr>\n",
       "      <th>1</th>\n",
       "      <td>9c22009d-9689-4f84-be03-18d1ae42366a</td>\n",
       "      <td>Male</td>\n",
       "      <td>1</td>\n",
       "      <td>28.0</td>\n",
       "      <td>0</td>\n",
       "      <td>1-2 Year</td>\n",
       "      <td>Yes</td>\n",
       "      <td>43327.0</td>\n",
       "      <td>26.0</td>\n",
       "      <td>135</td>\n",
       "      <td>0</td>\n",
       "      <td>MiddleAge</td>\n",
       "    </tr>\n",
       "    <tr>\n",
       "      <th>2</th>\n",
       "      <td>40742092-53aa-4c91-a00d-af595c481ff9</td>\n",
       "      <td>Female</td>\n",
       "      <td>1</td>\n",
       "      <td>33.0</td>\n",
       "      <td>0</td>\n",
       "      <td>1-2 Year</td>\n",
       "      <td>Yes</td>\n",
       "      <td>35841.0</td>\n",
       "      <td>124.0</td>\n",
       "      <td>253</td>\n",
       "      <td>0</td>\n",
       "      <td>OldAge</td>\n",
       "    </tr>\n",
       "    <tr>\n",
       "      <th>3</th>\n",
       "      <td>f528148a-e41c-483a-b450-a2fbf440b110</td>\n",
       "      <td>Female</td>\n",
       "      <td>1</td>\n",
       "      <td>33.0</td>\n",
       "      <td>0</td>\n",
       "      <td>&lt; 1 Year</td>\n",
       "      <td>No</td>\n",
       "      <td>27645.0</td>\n",
       "      <td>152.0</td>\n",
       "      <td>69</td>\n",
       "      <td>0</td>\n",
       "      <td>YoungAge</td>\n",
       "    </tr>\n",
       "    <tr>\n",
       "      <th>4</th>\n",
       "      <td>f6c1f656-21d8-49e0-9366-ac664649710d</td>\n",
       "      <td>Male</td>\n",
       "      <td>1</td>\n",
       "      <td>46.0</td>\n",
       "      <td>1</td>\n",
       "      <td>&lt; 1 Year</td>\n",
       "      <td>No</td>\n",
       "      <td>29023.0</td>\n",
       "      <td>152.0</td>\n",
       "      <td>211</td>\n",
       "      <td>0</td>\n",
       "      <td>YoungAge</td>\n",
       "    </tr>\n",
       "  </tbody>\n",
       "</table>\n",
       "</div>"
      ],
      "text/plain": [
       "                                     id  Gender  Driving_License  Region_Code  \\\n",
       "0  a7c4f22e-2a52-4bbf-a626-56cf89dc6442    Male                1          7.0   \n",
       "1  9c22009d-9689-4f84-be03-18d1ae42366a    Male                1         28.0   \n",
       "2  40742092-53aa-4c91-a00d-af595c481ff9  Female                1         33.0   \n",
       "3  f528148a-e41c-483a-b450-a2fbf440b110  Female                1         33.0   \n",
       "4  f6c1f656-21d8-49e0-9366-ac664649710d    Male                1         46.0   \n",
       "\n",
       "   Previously_Insured Vehicle_Age Vehicle_Damage  Annual_Premium  \\\n",
       "0                   1    < 1 Year             No          2630.0   \n",
       "1                   0    1-2 Year            Yes         43327.0   \n",
       "2                   0    1-2 Year            Yes         35841.0   \n",
       "3                   0    < 1 Year             No         27645.0   \n",
       "4                   1    < 1 Year             No         29023.0   \n",
       "\n",
       "   Policy_Sales_Channel  Vintage  Response  Age_Group  \n",
       "0                 152.0       16         0   YoungAge  \n",
       "1                  26.0      135         0  MiddleAge  \n",
       "2                 124.0      253         0     OldAge  \n",
       "3                 152.0       69         0   YoungAge  \n",
       "4                 152.0      211         0   YoungAge  "
      ]
     },
     "execution_count": 2,
     "metadata": {},
     "output_type": "execute_result"
    }
   ],
   "source": [
    "# Load the anonymized dataset and see the first rows\n",
    "da = pd.read_csv('C:\\\\Users\\\\USER-PC\\\\Desktop\\\\ThesisCode\\\\Data\\\\Anonymized\\\\aug_train_anonymized.csv')\n",
    "da.head()"
   ]
  },
  {
   "cell_type": "markdown",
   "metadata": {},
   "source": [
    "# **Data Wrangling**\n",
    "\n",
    "\n",
    "---\n"
   ]
  },
  {
   "cell_type": "markdown",
   "metadata": {},
   "source": [
    "- Data wrangling is the process of cleaning and unifying messy and complex data sets for easy access and analysis.\n",
    "\n",
    "- This process typically includes manually converting and mapping data from one raw form into another format to allow for more convenient consumption and organization of the data.\n",
    "\n",
    "*Let's dive into the dataset!*"
   ]
  },
  {
   "cell_type": "markdown",
   "metadata": {},
   "source": [
    "### Dataset Rows_Columns count"
   ]
  },
  {
   "cell_type": "code",
   "execution_count": 3,
   "metadata": {},
   "outputs": [
    {
     "name": "stdout",
     "output_type": "stream",
     "text": [
      "the number of rows and columns: (382154, 12)\n"
     ]
    }
   ],
   "source": [
    "# Dataset Rows & Columns count\n",
    "print ('the number of rows and columns:',da.shape)"
   ]
  },
  {
   "cell_type": "markdown",
   "metadata": {},
   "source": [
    "### Dataset overview"
   ]
  },
  {
   "cell_type": "code",
   "execution_count": 4,
   "metadata": {},
   "outputs": [
    {
     "name": "stdout",
     "output_type": "stream",
     "text": [
      "<class 'pandas.core.frame.DataFrame'>\n",
      "RangeIndex: 382154 entries, 0 to 382153\n",
      "Data columns (total 12 columns):\n",
      " #   Column                Non-Null Count   Dtype  \n",
      "---  ------                --------------   -----  \n",
      " 0   id                    382154 non-null  object \n",
      " 1   Gender                382154 non-null  object \n",
      " 2   Driving_License       382154 non-null  int64  \n",
      " 3   Region_Code           382154 non-null  float64\n",
      " 4   Previously_Insured    382154 non-null  int64  \n",
      " 5   Vehicle_Age           382154 non-null  object \n",
      " 6   Vehicle_Damage        382154 non-null  object \n",
      " 7   Annual_Premium        382154 non-null  float64\n",
      " 8   Policy_Sales_Channel  382154 non-null  float64\n",
      " 9   Vintage               382154 non-null  int64  \n",
      " 10  Response              382154 non-null  int64  \n",
      " 11  Age_Group             382154 non-null  object \n",
      "dtypes: float64(3), int64(4), object(5)\n",
      "memory usage: 35.0+ MB\n"
     ]
    }
   ],
   "source": [
    "# Dataset Details\n",
    "da.info()"
   ]
  },
  {
   "cell_type": "code",
   "execution_count": 5,
   "metadata": {},
   "outputs": [
    {
     "data": {
      "text/html": [
       "<div>\n",
       "<style scoped>\n",
       "    .dataframe tbody tr th:only-of-type {\n",
       "        vertical-align: middle;\n",
       "    }\n",
       "\n",
       "    .dataframe tbody tr th {\n",
       "        vertical-align: top;\n",
       "    }\n",
       "\n",
       "    .dataframe thead th {\n",
       "        text-align: right;\n",
       "    }\n",
       "</style>\n",
       "<table border=\"1\" class=\"dataframe\">\n",
       "  <thead>\n",
       "    <tr style=\"text-align: right;\">\n",
       "      <th></th>\n",
       "      <th>Driving_License</th>\n",
       "      <th>Region_Code</th>\n",
       "      <th>Previously_Insured</th>\n",
       "      <th>Annual_Premium</th>\n",
       "      <th>Policy_Sales_Channel</th>\n",
       "      <th>Vintage</th>\n",
       "      <th>Response</th>\n",
       "    </tr>\n",
       "  </thead>\n",
       "  <tbody>\n",
       "    <tr>\n",
       "      <th>count</th>\n",
       "      <td>382154.000000</td>\n",
       "      <td>382154.000000</td>\n",
       "      <td>382154.000000</td>\n",
       "      <td>382154.000000</td>\n",
       "      <td>382154.000000</td>\n",
       "      <td>382154.000000</td>\n",
       "      <td>382154.000000</td>\n",
       "    </tr>\n",
       "    <tr>\n",
       "      <th>mean</th>\n",
       "      <td>0.998108</td>\n",
       "      <td>26.406867</td>\n",
       "      <td>0.489182</td>\n",
       "      <td>30711.271362</td>\n",
       "      <td>111.939812</td>\n",
       "      <td>154.189429</td>\n",
       "      <td>0.163811</td>\n",
       "    </tr>\n",
       "    <tr>\n",
       "      <th>std</th>\n",
       "      <td>0.043455</td>\n",
       "      <td>13.181241</td>\n",
       "      <td>0.499884</td>\n",
       "      <td>17061.595532</td>\n",
       "      <td>54.286511</td>\n",
       "      <td>83.735107</td>\n",
       "      <td>0.370104</td>\n",
       "    </tr>\n",
       "    <tr>\n",
       "      <th>min</th>\n",
       "      <td>0.000000</td>\n",
       "      <td>0.000000</td>\n",
       "      <td>0.000000</td>\n",
       "      <td>2630.000000</td>\n",
       "      <td>1.000000</td>\n",
       "      <td>10.000000</td>\n",
       "      <td>0.000000</td>\n",
       "    </tr>\n",
       "    <tr>\n",
       "      <th>25%</th>\n",
       "      <td>1.000000</td>\n",
       "      <td>15.000000</td>\n",
       "      <td>0.000000</td>\n",
       "      <td>24546.000000</td>\n",
       "      <td>26.000000</td>\n",
       "      <td>81.000000</td>\n",
       "      <td>0.000000</td>\n",
       "    </tr>\n",
       "    <tr>\n",
       "      <th>50%</th>\n",
       "      <td>1.000000</td>\n",
       "      <td>28.000000</td>\n",
       "      <td>0.000000</td>\n",
       "      <td>31692.000000</td>\n",
       "      <td>145.000000</td>\n",
       "      <td>154.000000</td>\n",
       "      <td>0.000000</td>\n",
       "    </tr>\n",
       "    <tr>\n",
       "      <th>75%</th>\n",
       "      <td>1.000000</td>\n",
       "      <td>35.000000</td>\n",
       "      <td>1.000000</td>\n",
       "      <td>39447.750000</td>\n",
       "      <td>152.000000</td>\n",
       "      <td>227.000000</td>\n",
       "      <td>0.000000</td>\n",
       "    </tr>\n",
       "    <tr>\n",
       "      <th>max</th>\n",
       "      <td>1.000000</td>\n",
       "      <td>52.000000</td>\n",
       "      <td>1.000000</td>\n",
       "      <td>540165.000000</td>\n",
       "      <td>163.000000</td>\n",
       "      <td>299.000000</td>\n",
       "      <td>1.000000</td>\n",
       "    </tr>\n",
       "  </tbody>\n",
       "</table>\n",
       "</div>"
      ],
      "text/plain": [
       "       Driving_License    Region_Code  Previously_Insured  Annual_Premium  \\\n",
       "count    382154.000000  382154.000000       382154.000000   382154.000000   \n",
       "mean          0.998108      26.406867            0.489182    30711.271362   \n",
       "std           0.043455      13.181241            0.499884    17061.595532   \n",
       "min           0.000000       0.000000            0.000000     2630.000000   \n",
       "25%           1.000000      15.000000            0.000000    24546.000000   \n",
       "50%           1.000000      28.000000            0.000000    31692.000000   \n",
       "75%           1.000000      35.000000            1.000000    39447.750000   \n",
       "max           1.000000      52.000000            1.000000   540165.000000   \n",
       "\n",
       "       Policy_Sales_Channel        Vintage       Response  \n",
       "count         382154.000000  382154.000000  382154.000000  \n",
       "mean             111.939812     154.189429       0.163811  \n",
       "std               54.286511      83.735107       0.370104  \n",
       "min                1.000000      10.000000       0.000000  \n",
       "25%               26.000000      81.000000       0.000000  \n",
       "50%              145.000000     154.000000       0.000000  \n",
       "75%              152.000000     227.000000       0.000000  \n",
       "max              163.000000     299.000000       1.000000  "
      ]
     },
     "execution_count": 5,
     "metadata": {},
     "output_type": "execute_result"
    }
   ],
   "source": [
    "da.describe()"
   ]
  },
  {
   "cell_type": "markdown",
   "metadata": {},
   "source": [
    "### Data set verification\n"
   ]
  },
  {
   "cell_type": "markdown",
   "metadata": {},
   "source": [
    "Check Unique Values for each variable"
   ]
  },
  {
   "cell_type": "code",
   "execution_count": 6,
   "metadata": {},
   "outputs": [
    {
     "data": {
      "text/plain": [
       "id                      382154\n",
       "Gender                       2\n",
       "Driving_License              2\n",
       "Region_Code                 53\n",
       "Previously_Insured           2\n",
       "Vehicle_Age                  3\n",
       "Vehicle_Damage               2\n",
       "Annual_Premium           48993\n",
       "Policy_Sales_Channel       156\n",
       "Vintage                    290\n",
       "Response                     2\n",
       "Age_Group                    3\n",
       "dtype: int64"
      ]
     },
     "execution_count": 6,
     "metadata": {},
     "output_type": "execute_result"
    }
   ],
   "source": [
    "# Check Unique Values for each variable.\n",
    "da.nunique()"
   ]
  },
  {
   "cell_type": "markdown",
   "metadata": {},
   "source": [
    "Duplicate values"
   ]
  },
  {
   "cell_type": "code",
   "execution_count": 7,
   "metadata": {},
   "outputs": [
    {
     "name": "stdout",
     "output_type": "stream",
     "text": [
      "There are 5 categorical variables: id, Gender, Vehicle_Age, Vehicle_Damage, Age_Group\n",
      "There are 7 numerical variables: Driving_License, Region_Code, Previously_Insured, Annual_Premium, Policy_Sales_Channel, Vintage, Response\n"
     ]
    }
   ],
   "source": [
    "# Find categorical variables\n",
    "categorical = [var for var in da.columns if da[var].dtype == 'O']\n",
    "print('There are {} categorical variables: {}'.format(len(categorical), ', '.join(categorical)))\n",
    "\n",
    "# Find numerical variables\n",
    "numerical = [var for var in da.columns if da[var].dtype != 'O']\n",
    "print('There are {} numerical variables: {}'.format(len(numerical), ', '.join(numerical)))"
   ]
  },
  {
   "cell_type": "code",
   "execution_count": 8,
   "metadata": {},
   "outputs": [
    {
     "data": {
      "text/plain": [
       "0"
      ]
     },
     "execution_count": 8,
     "metadata": {},
     "output_type": "execute_result"
    }
   ],
   "source": [
    "# Dataset Duplicate Value Count\n",
    "len(da[da.duplicated()])"
   ]
  },
  {
   "cell_type": "markdown",
   "metadata": {},
   "source": [
    "Our dataset has no duplicates."
   ]
  },
  {
   "cell_type": "markdown",
   "metadata": {},
   "source": [
    "#### Zero/missing values"
   ]
  },
  {
   "cell_type": "code",
   "execution_count": 9,
   "metadata": {},
   "outputs": [
    {
     "data": {
      "text/plain": [
       "id                      0\n",
       "Gender                  0\n",
       "Driving_License         0\n",
       "Region_Code             0\n",
       "Previously_Insured      0\n",
       "Vehicle_Age             0\n",
       "Vehicle_Damage          0\n",
       "Annual_Premium          0\n",
       "Policy_Sales_Channel    0\n",
       "Vintage                 0\n",
       "Response                0\n",
       "Age_Group               0\n",
       "dtype: int64"
      ]
     },
     "execution_count": 9,
     "metadata": {},
     "output_type": "execute_result"
    }
   ],
   "source": [
    "# Missing Values/Null Values Count\n",
    "miss_values = da.isna().sum()\n",
    "miss_values"
   ]
  },
  {
   "cell_type": "markdown",
   "metadata": {},
   "source": [
    "There are no missing values/Null values."
   ]
  },
  {
   "cell_type": "markdown",
   "metadata": {},
   "source": [
    "### **Observations:**\n",
    "---\n",
    "- As we can see, our data set contains  382154 rows and 12 columns.\n",
    "- We do not have any **Null Values** in our dataset.\n",
    "- We have 7 numeric and 5 categorical independent features.\n",
    "- Our dependent feature is a categorical column (*Response*)"
   ]
  },
  {
   "cell_type": "markdown",
   "metadata": {},
   "source": [
    "## **Data Cleaning and Refactoring**\n",
    "---\n",
    "Let's reformat and clean the data for smooth processing!"
   ]
  },
  {
   "cell_type": "markdown",
   "metadata": {},
   "source": [
    "### **Finding Outliers**\n",
    "---\n",
    "*Let's take a look at the outliers (if any) in our dataset.*"
   ]
  },
  {
   "cell_type": "code",
   "execution_count": 10,
   "metadata": {},
   "outputs": [
    {
     "data": {
      "image/png": "[encoded data removed]",
      "text/plain": [
       "<Figure size 1500x1200 with 4 Axes>"
      ]
     },
     "metadata": {},
     "output_type": "display_data"
    }
   ],
   "source": [
    "import seaborn as sns\n",
    "import matplotlib.pyplot as plt\n",
    "\n",
    "def show_outliers(df):\n",
    "    # Setup the figure and axes\n",
    "    fig, axes = plt.subplots(2, 2, figsize=(15, 12))  # Adjusted grid to 2x2\n",
    "\n",
    "    # Plotting boxplots for Annual_Premium and Vintage against Response\n",
    "    sns.boxplot(ax=axes[0, 0], y='Annual_Premium', x='Response', data=df,color=\"purple\")\n",
    "    axes[0, 0].set_xlabel('Response', fontdict={'fontsize': 14})\n",
    "    axes[0, 0].set_ylabel('Annual_Premium', fontdict={'fontsize': 14})\n",
    "    axes[0, 0].set_title('Annual_Premium', fontdict={'fontsize': 15, 'fontweight': 'bold'})\n",
    "\n",
    "    sns.boxplot(ax=axes[0, 1], y='Vintage', x='Response', data=df)\n",
    "    axes[0, 1].set_xlabel('Response', fontdict={'fontsize': 14})\n",
    "    axes[0, 1].set_ylabel('Vintage', fontdict={'fontsize': 14})\n",
    "    axes[0, 1].set_title('Vintage', fontdict={'fontsize': 15, 'fontweight': 'bold'})\n",
    "\n",
    "    # Plotting distributions for Annual_Premium and Vintage\n",
    "    sns.histplot(ax=axes[1, 0], x=df['Annual_Premium'], color=\"purple\", kde=True)\n",
    "    axes[1, 0].set_xlabel('Annual Premium', fontdict={'fontsize': 14})\n",
    "    axes[1, 0].set_ylabel('Density', fontdict={'fontsize': 14})\n",
    "    axes[1, 0].set_title('Annual_Premium Distribution', fontdict={'fontsize': 15, 'fontweight': 'bold'})\n",
    "\n",
    "    sns.histplot(ax=axes[1, 1], x=df['Vintage'], kde=True)\n",
    "    axes[1, 1].set_xlabel('Vintage', fontdict={'fontsize': 14})\n",
    "    axes[1, 1].set_ylabel('Density', fontdict={'fontsize': 14})\n",
    "    axes[1, 1].set_title('Vintage Distribution', fontdict={'fontsize': 15, 'fontweight': 'bold'})\n",
    "\n",
    "    # Overall title\n",
    "    plt.suptitle('Outliers and Distributions', fontsize=22, fontweight='bold')\n",
    "\n",
    "    # Adjust layout\n",
    "    plt.tight_layout(rect=[0, 0, 1, 0.95])  # Adjust layout to make room for the suptitle\n",
    "\n",
    "# Assuming 'da' is your DataFrame\n",
    "show_outliers(da)\n"
   ]
  },
  {
   "cell_type": "markdown",
   "metadata": {},
   "source": [
    "*   From the above plot it can be implied that **Annual Premium** has a poitively skewed distribution.\n",
    "*   From above we can also depict that **Vintage** has a approximatly uniform distribution."
   ]
  },
  {
   "cell_type": "markdown",
   "metadata": {},
   "source": [
    "## Outlier Treatment \n",
    "\n",
    "\n",
    "---\n",
    "\n",
    "*   For Outlier treatment we will be applying quantile method.\n"
   ]
  },
  {
   "cell_type": "code",
   "execution_count": 11,
   "metadata": {},
   "outputs": [],
   "source": [
    "# Miscellaneous\n",
    "import time\n",
    "from sklearn.preprocessing import MinMaxScaler\n",
    "def outlier_treatment(df):\n",
    "    Q1=df['Annual_Premium'].quantile(0.25)\n",
    "    Q3=df['Annual_Premium'].quantile(0.75)\n",
    "    IQR=Q3-Q1\n",
    "\n",
    "    Lower_Whisker = Q1-1.5*IQR\n",
    "    Upper_Whisker = Q3+1.5*IQR\n",
    "    df['Annual_Premium_Treated'] = np.where(df['Annual_Premium']>Upper_Whisker, Upper_Whisker, df['Annual_Premium'])\n",
    "\n",
    "def scale_features(df):\n",
    "    scaler = MinMaxScaler()\n",
    "\n",
    "    df['Annual_Premium_Treated'] = scaler.fit_transform(df['Annual_Premium_Treated'].values.reshape(-1,1))\n",
    "    df['Vintage_Treated'] = scaler.fit_transform(df['Vintage'].values.reshape(-1,1))\n",
    "\n",
    "outlier_treatment(da)\n",
    "#scale_features(da)"
   ]
  },
  {
   "cell_type": "code",
   "execution_count": 12,
   "metadata": {},
   "outputs": [
    {
     "name": "stderr",
     "output_type": "stream",
     "text": [
      "C:\\Users\\USER-PC\\AppData\\Local\\Temp\\ipykernel_11668\\867684749.py:9: UserWarning: \n",
      "\n",
      "`distplot` is a deprecated function and will be removed in seaborn v0.14.0.\n",
      "\n",
      "Please adapt your code to use either `displot` (a figure-level function with\n",
      "similar flexibility) or `histplot` (an axes-level function for histograms).\n",
      "\n",
      "For a guide to updating your code to use the new functions, please see\n",
      "https://gist.github.com/mwaskom/de44147ed2974457ad6372750bbe5751\n",
      "\n",
      "  sns.distplot(ax = axes[1], x = df['Annual_Premium_Treated'], color='brown')\n"
     ]
    },
    {
     "data": {
      "image/png": "[encoded data removed]",
      "text/plain": [
       "<Figure size 1500x500 with 2 Axes>"
      ]
     },
     "metadata": {},
     "output_type": "display_data"
    }
   ],
   "source": [
    "def show_ann_prem_outliers(df):\n",
    "\n",
    "    fig, axes = plt.subplots(1, 2, figsize=(15,5))\n",
    "    sns.boxplot(ax = axes[0], y = 'Annual_Premium_Treated',x = 'Response', data = df)\n",
    "    axes[0].set_xlabel(xlabel = 'Response', fontdict={'fontsize': 14})\n",
    "    axes[0].set_ylabel(ylabel = 'Annual_Premium_Treated', fontdict={'fontsize': 14})\n",
    "    axes[0].set_title('Annual Premium Treated', fontdict={'fontsize': 15,  'fontweight' :'bold'})\n",
    "\n",
    "    sns.distplot(ax = axes[1], x = df['Annual_Premium_Treated'], color='brown')\n",
    "    axes[1].set_xlabel(xlabel = 'Annual_Premium_Treated', fontdict={'fontsize': 14})\n",
    "    axes[1].set_ylabel(ylabel = 'Density', fontdict={'fontsize': 14})\n",
    "    axes[1].set_title('Annual Premium Treated', fontdict={'fontsize': 15,  'fontweight' :'bold'})\n",
    "\n",
    "\n",
    "show_ann_prem_outliers(da)"
   ]
  },
  {
   "cell_type": "markdown",
   "metadata": {},
   "source": [
    "*   From the above plots we can see that there are no more outliers in *Annual Premium*."
   ]
  },
  {
   "cell_type": "code",
   "execution_count": 13,
   "metadata": {},
   "outputs": [
    {
     "data": {
      "text/html": [
       "<div>\n",
       "<style scoped>\n",
       "    .dataframe tbody tr th:only-of-type {\n",
       "        vertical-align: middle;\n",
       "    }\n",
       "\n",
       "    .dataframe tbody tr th {\n",
       "        vertical-align: top;\n",
       "    }\n",
       "\n",
       "    .dataframe thead th {\n",
       "        text-align: right;\n",
       "    }\n",
       "</style>\n",
       "<table border=\"1\" class=\"dataframe\">\n",
       "  <thead>\n",
       "    <tr style=\"text-align: right;\">\n",
       "      <th></th>\n",
       "      <th>Column</th>\n",
       "      <th>Dtype</th>\n",
       "      <th>Null</th>\n",
       "      <th>Null (%)</th>\n",
       "      <th>nUnique</th>\n",
       "      <th>Unique</th>\n",
       "    </tr>\n",
       "  </thead>\n",
       "  <tbody>\n",
       "    <tr>\n",
       "      <th>0</th>\n",
       "      <td>id</td>\n",
       "      <td>object</td>\n",
       "      <td>0</td>\n",
       "      <td>0.0</td>\n",
       "      <td>382154</td>\n",
       "      <td>[a7c4f22e-2a52-4bbf-a626-56cf89dc6442, 9c22009...</td>\n",
       "    </tr>\n",
       "    <tr>\n",
       "      <th>1</th>\n",
       "      <td>Gender</td>\n",
       "      <td>object</td>\n",
       "      <td>0</td>\n",
       "      <td>0.0</td>\n",
       "      <td>2</td>\n",
       "      <td>[Male, Female]</td>\n",
       "    </tr>\n",
       "    <tr>\n",
       "      <th>2</th>\n",
       "      <td>Driving_License</td>\n",
       "      <td>int64</td>\n",
       "      <td>0</td>\n",
       "      <td>0.0</td>\n",
       "      <td>2</td>\n",
       "      <td>[1, 0]</td>\n",
       "    </tr>\n",
       "    <tr>\n",
       "      <th>3</th>\n",
       "      <td>Region_Code</td>\n",
       "      <td>float64</td>\n",
       "      <td>0</td>\n",
       "      <td>0.0</td>\n",
       "      <td>53</td>\n",
       "      <td>[7.0, 28.0, 33.0, 46.0, 25.0, 8.0, 41.0, 39.0,...</td>\n",
       "    </tr>\n",
       "    <tr>\n",
       "      <th>4</th>\n",
       "      <td>Previously_Insured</td>\n",
       "      <td>int64</td>\n",
       "      <td>0</td>\n",
       "      <td>0.0</td>\n",
       "      <td>2</td>\n",
       "      <td>[1, 0]</td>\n",
       "    </tr>\n",
       "    <tr>\n",
       "      <th>5</th>\n",
       "      <td>Vehicle_Age</td>\n",
       "      <td>object</td>\n",
       "      <td>0</td>\n",
       "      <td>0.0</td>\n",
       "      <td>3</td>\n",
       "      <td>[&lt; 1 Year, 1-2 Year, &gt; 2 Years]</td>\n",
       "    </tr>\n",
       "    <tr>\n",
       "      <th>6</th>\n",
       "      <td>Vehicle_Damage</td>\n",
       "      <td>object</td>\n",
       "      <td>0</td>\n",
       "      <td>0.0</td>\n",
       "      <td>2</td>\n",
       "      <td>[No, Yes]</td>\n",
       "    </tr>\n",
       "    <tr>\n",
       "      <th>7</th>\n",
       "      <td>Annual_Premium</td>\n",
       "      <td>float64</td>\n",
       "      <td>0</td>\n",
       "      <td>0.0</td>\n",
       "      <td>48993</td>\n",
       "      <td>[2630.0, 43327.0, 35841.0, 27645.0, 29023.0, 2...</td>\n",
       "    </tr>\n",
       "    <tr>\n",
       "      <th>8</th>\n",
       "      <td>Policy_Sales_Channel</td>\n",
       "      <td>float64</td>\n",
       "      <td>0</td>\n",
       "      <td>0.0</td>\n",
       "      <td>156</td>\n",
       "      <td>[152.0, 26.0, 124.0, 122.0, 158.0, 157.0, 156....</td>\n",
       "    </tr>\n",
       "    <tr>\n",
       "      <th>9</th>\n",
       "      <td>Vintage</td>\n",
       "      <td>int64</td>\n",
       "      <td>0</td>\n",
       "      <td>0.0</td>\n",
       "      <td>290</td>\n",
       "      <td>[16, 135, 253, 69, 211, 23, 209, 51, 262, 217,...</td>\n",
       "    </tr>\n",
       "    <tr>\n",
       "      <th>10</th>\n",
       "      <td>Response</td>\n",
       "      <td>int64</td>\n",
       "      <td>0</td>\n",
       "      <td>0.0</td>\n",
       "      <td>2</td>\n",
       "      <td>[0, 1]</td>\n",
       "    </tr>\n",
       "    <tr>\n",
       "      <th>11</th>\n",
       "      <td>Age_Group</td>\n",
       "      <td>object</td>\n",
       "      <td>0</td>\n",
       "      <td>0.0</td>\n",
       "      <td>3</td>\n",
       "      <td>[YoungAge, MiddleAge, OldAge]</td>\n",
       "    </tr>\n",
       "    <tr>\n",
       "      <th>12</th>\n",
       "      <td>Annual_Premium_Treated</td>\n",
       "      <td>float64</td>\n",
       "      <td>0</td>\n",
       "      <td>0.0</td>\n",
       "      <td>41756</td>\n",
       "      <td>[2630.0, 43327.0, 35841.0, 27645.0, 29023.0, 2...</td>\n",
       "    </tr>\n",
       "  </tbody>\n",
       "</table>\n",
       "</div>"
      ],
      "text/plain": [
       "                    Column    Dtype  Null  Null (%)  nUnique  \\\n",
       "0                       id   object     0       0.0   382154   \n",
       "1                   Gender   object     0       0.0        2   \n",
       "2          Driving_License    int64     0       0.0        2   \n",
       "3              Region_Code  float64     0       0.0       53   \n",
       "4       Previously_Insured    int64     0       0.0        2   \n",
       "5              Vehicle_Age   object     0       0.0        3   \n",
       "6           Vehicle_Damage   object     0       0.0        2   \n",
       "7           Annual_Premium  float64     0       0.0    48993   \n",
       "8     Policy_Sales_Channel  float64     0       0.0      156   \n",
       "9                  Vintage    int64     0       0.0      290   \n",
       "10                Response    int64     0       0.0        2   \n",
       "11               Age_Group   object     0       0.0        3   \n",
       "12  Annual_Premium_Treated  float64     0       0.0    41756   \n",
       "\n",
       "                                               Unique  \n",
       "0   [a7c4f22e-2a52-4bbf-a626-56cf89dc6442, 9c22009...  \n",
       "1                                      [Male, Female]  \n",
       "2                                              [1, 0]  \n",
       "3   [7.0, 28.0, 33.0, 46.0, 25.0, 8.0, 41.0, 39.0,...  \n",
       "4                                              [1, 0]  \n",
       "5                     [< 1 Year, 1-2 Year, > 2 Years]  \n",
       "6                                           [No, Yes]  \n",
       "7   [2630.0, 43327.0, 35841.0, 27645.0, 29023.0, 2...  \n",
       "8   [152.0, 26.0, 124.0, 122.0, 158.0, 157.0, 156....  \n",
       "9   [16, 135, 253, 69, 211, 23, 209, 51, 262, 217,...  \n",
       "10                                             [0, 1]  \n",
       "11                      [YoungAge, MiddleAge, OldAge]  \n",
       "12  [2630.0, 43327.0, 35841.0, 27645.0, 29023.0, 2...  "
      ]
     },
     "execution_count": 13,
     "metadata": {},
     "output_type": "execute_result"
    }
   ],
   "source": [
    "# Write your code to make your dataset analysis ready.\n",
    "df_desc = []\n",
    "for column in da.columns:\n",
    "  df_desc.append([column,\n",
    "                  da[column].dtypes,\n",
    "                  da[column].isnull().sum(),\n",
    "                  round(da[column].isnull().sum()/len(da)*100, 2),\n",
    "                  da[column].nunique(),\n",
    "                  da[column].unique()])\n",
    "\n",
    "## storing all the information in a single table just to keep it neat \n",
    "column_desc = pd.DataFrame(df_desc, columns = ['Column', 'Dtype', 'Null', 'Null (%)', 'nUnique', 'Unique'])\n",
    "column_desc"
   ]
  },
  {
   "cell_type": "code",
   "execution_count": 14,
   "metadata": {},
   "outputs": [
    {
     "name": "stdout",
     "output_type": "stream",
     "text": [
      "id                        382154\n",
      "Gender                    382154\n",
      "Driving_License           382154\n",
      "Region_Code               382154\n",
      "Previously_Insured        382154\n",
      "Vehicle_Age               382154\n",
      "Vehicle_Damage            382154\n",
      "Policy_Sales_Channel      382154\n",
      "Vintage                   382154\n",
      "Response                  382154\n",
      "Age_Group                 382154\n",
      "Annual_Premium_Treated    382154\n",
      "dtype: int64\n",
      "After deleting clients who they don't have Driving_license\n",
      "id                        381431\n",
      "Gender                    381431\n",
      "Driving_License           381431\n",
      "Region_Code               381431\n",
      "Previously_Insured        381431\n",
      "Vehicle_Age               381431\n",
      "Vehicle_Damage            381431\n",
      "Policy_Sales_Channel      381431\n",
      "Vintage                   381431\n",
      "Response                  381431\n",
      "Age_Group                 381431\n",
      "Annual_Premium_Treated    381431\n",
      "dtype: int64\n"
     ]
    }
   ],
   "source": [
    "# Drop the 'Annual_Premium' column from the DataFrame\n",
    "da.drop('Annual_Premium', axis=1, inplace=True)\n",
    "\n",
    "# Find indices of rows to drop (those without a driving license or under 18)\n",
    "indices_to_drop = da[(da['Driving_License'] == 0)].index\n",
    "\n",
    "# Drop these rows using the indices\n",
    "df_dropped = da.drop(indices_to_drop)\n",
    "print(da.count())\n",
    "print(\"After deleting clients who they don't have Driving_license\")\n",
    "# Display the DataFrame to verify rows are dropped\n",
    "print(df_dropped.count())\n"
   ]
  },
  {
   "cell_type": "code",
   "execution_count": 15,
   "metadata": {},
   "outputs": [
    {
     "name": "stdout",
     "output_type": "stream",
     "text": [
      "Data cleaning is done\n"
     ]
    },
    {
     "data": {
      "text/html": [
       "<div>\n",
       "<style scoped>\n",
       "    .dataframe tbody tr th:only-of-type {\n",
       "        vertical-align: middle;\n",
       "    }\n",
       "\n",
       "    .dataframe tbody tr th {\n",
       "        vertical-align: top;\n",
       "    }\n",
       "\n",
       "    .dataframe thead th {\n",
       "        text-align: right;\n",
       "    }\n",
       "</style>\n",
       "<table border=\"1\" class=\"dataframe\">\n",
       "  <thead>\n",
       "    <tr style=\"text-align: right;\">\n",
       "      <th></th>\n",
       "      <th>id</th>\n",
       "      <th>Gender</th>\n",
       "      <th>Driving_License</th>\n",
       "      <th>Region_Code</th>\n",
       "      <th>Previously_Insured</th>\n",
       "      <th>Vehicle_Age</th>\n",
       "      <th>Vehicle_Damage</th>\n",
       "      <th>Policy_Sales_Channel</th>\n",
       "      <th>Vintage</th>\n",
       "      <th>Response</th>\n",
       "      <th>Age_Group</th>\n",
       "      <th>Annual_Premium_Treated</th>\n",
       "    </tr>\n",
       "  </thead>\n",
       "  <tbody>\n",
       "    <tr>\n",
       "      <th>0</th>\n",
       "      <td>a7c4f22e-2a52-4bbf-a626-56cf89dc6442</td>\n",
       "      <td>Male</td>\n",
       "      <td>1</td>\n",
       "      <td>7.0</td>\n",
       "      <td>1</td>\n",
       "      <td>&lt; 1 Year</td>\n",
       "      <td>No</td>\n",
       "      <td>152.0</td>\n",
       "      <td>16</td>\n",
       "      <td>0</td>\n",
       "      <td>YoungAge</td>\n",
       "      <td>2630.0</td>\n",
       "    </tr>\n",
       "    <tr>\n",
       "      <th>1</th>\n",
       "      <td>9c22009d-9689-4f84-be03-18d1ae42366a</td>\n",
       "      <td>Male</td>\n",
       "      <td>1</td>\n",
       "      <td>28.0</td>\n",
       "      <td>0</td>\n",
       "      <td>1-2 Year</td>\n",
       "      <td>Yes</td>\n",
       "      <td>26.0</td>\n",
       "      <td>135</td>\n",
       "      <td>0</td>\n",
       "      <td>MiddleAge</td>\n",
       "      <td>43327.0</td>\n",
       "    </tr>\n",
       "    <tr>\n",
       "      <th>2</th>\n",
       "      <td>40742092-53aa-4c91-a00d-af595c481ff9</td>\n",
       "      <td>Female</td>\n",
       "      <td>1</td>\n",
       "      <td>33.0</td>\n",
       "      <td>0</td>\n",
       "      <td>1-2 Year</td>\n",
       "      <td>Yes</td>\n",
       "      <td>124.0</td>\n",
       "      <td>253</td>\n",
       "      <td>0</td>\n",
       "      <td>OldAge</td>\n",
       "      <td>35841.0</td>\n",
       "    </tr>\n",
       "    <tr>\n",
       "      <th>3</th>\n",
       "      <td>f528148a-e41c-483a-b450-a2fbf440b110</td>\n",
       "      <td>Female</td>\n",
       "      <td>1</td>\n",
       "      <td>33.0</td>\n",
       "      <td>0</td>\n",
       "      <td>&lt; 1 Year</td>\n",
       "      <td>No</td>\n",
       "      <td>152.0</td>\n",
       "      <td>69</td>\n",
       "      <td>0</td>\n",
       "      <td>YoungAge</td>\n",
       "      <td>27645.0</td>\n",
       "    </tr>\n",
       "    <tr>\n",
       "      <th>4</th>\n",
       "      <td>f6c1f656-21d8-49e0-9366-ac664649710d</td>\n",
       "      <td>Male</td>\n",
       "      <td>1</td>\n",
       "      <td>46.0</td>\n",
       "      <td>1</td>\n",
       "      <td>&lt; 1 Year</td>\n",
       "      <td>No</td>\n",
       "      <td>152.0</td>\n",
       "      <td>211</td>\n",
       "      <td>0</td>\n",
       "      <td>YoungAge</td>\n",
       "      <td>29023.0</td>\n",
       "    </tr>\n",
       "  </tbody>\n",
       "</table>\n",
       "</div>"
      ],
      "text/plain": [
       "                                     id  Gender  Driving_License  Region_Code  \\\n",
       "0  a7c4f22e-2a52-4bbf-a626-56cf89dc6442    Male                1          7.0   \n",
       "1  9c22009d-9689-4f84-be03-18d1ae42366a    Male                1         28.0   \n",
       "2  40742092-53aa-4c91-a00d-af595c481ff9  Female                1         33.0   \n",
       "3  f528148a-e41c-483a-b450-a2fbf440b110  Female                1         33.0   \n",
       "4  f6c1f656-21d8-49e0-9366-ac664649710d    Male                1         46.0   \n",
       "\n",
       "   Previously_Insured Vehicle_Age Vehicle_Damage  Policy_Sales_Channel  \\\n",
       "0                   1    < 1 Year             No                 152.0   \n",
       "1                   0    1-2 Year            Yes                  26.0   \n",
       "2                   0    1-2 Year            Yes                 124.0   \n",
       "3                   0    < 1 Year             No                 152.0   \n",
       "4                   1    < 1 Year             No                 152.0   \n",
       "\n",
       "   Vintage  Response  Age_Group  Annual_Premium_Treated  \n",
       "0       16         0   YoungAge                  2630.0  \n",
       "1      135         0  MiddleAge                 43327.0  \n",
       "2      253         0     OldAge                 35841.0  \n",
       "3       69         0   YoungAge                 27645.0  \n",
       "4      211         0   YoungAge                 29023.0  "
      ]
     },
     "execution_count": 15,
     "metadata": {},
     "output_type": "execute_result"
    }
   ],
   "source": [
    "df_dropped.to_csv('C:\\\\Users\\\\USER-PC\\\\Desktop\\\\ThesisCode\\\\Data\\\\Anonymized\\\\aug_train_anonymized.csv', index=False)\n",
    "print(\"Data cleaning is done\")\n",
    "df_dropped.head()"
   ]
  },
  {
   "cell_type": "markdown",
   "metadata": {},
   "source": [
    "My dataset is in excellent condition; it's free from redundant  values, duplicates, missing values, and outliers. This sets a solid foundation for us to proceed to the analysis phase confidently."
   ]
  },
  {
   "cell_type": "code",
   "execution_count": 16,
   "metadata": {},
   "outputs": [
    {
     "name": "stdout",
     "output_type": "stream",
     "text": [
      "Number of customers without a driving license: 0\n",
      "No customers without a driving license found.\n"
     ]
    }
   ],
   "source": [
    "# Check the count of customers with Driving_License equal to 0\n",
    "no_license_count = df_dropped[df_dropped['Driving_License'] == 0].shape[0]\n",
    "\n",
    "# Print the number of customers without a driving license\n",
    "print(f\"Number of customers without a driving license: {no_license_count}\")\n",
    "\n",
    "# If you want to see the actual records of customers without a driving license, you can do:\n",
    "if no_license_count > 0:\n",
    "    print(\"Showing customers without a driving license:\")\n",
    "    display(df_dropped[df_dropped['Driving_License'] == 0])  # Using display() for nicer formatting in Jupyter Notebook\n",
    "else:\n",
    "    print(\"No customers without a driving license found.\")"
   ]
  }
 ],
 "metadata": {
  "kernelspec": {
   "display_name": "Python 3",
   "language": "python",
   "name": "python3"
  },
  "language_info": {
   "codemirror_mode": {
    "name": "ipython",
    "version": 3
   },
   "file_extension": ".py",
   "mimetype": "text/x-python",
   "name": "python",
   "nbconvert_exporter": "python",
   "pygments_lexer": "ipython3",
   "version": "3.11.9"
  }
 },
 "nbformat": 4,
 "nbformat_minor": 2
}
