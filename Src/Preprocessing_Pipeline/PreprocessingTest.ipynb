{
 "cells": [
  {
   "cell_type": "code",
   "execution_count": 31,
   "metadata": {},
   "outputs": [],
   "source": [
    "# Import Libraries\n",
    "import pandas as pd\n",
    "import numpy as np\n",
    "import matplotlib.pyplot as plt\n",
    "from matplotlib import pyplot as plt\n",
    "from sklearn.model_selection import train_test_split\n",
    "from sklearn.impute import SimpleImputer\n",
    "from sklearn.preprocessing import StandardScaler, OneHotEncoder\n",
    "from sklearn.compose import ColumnTransformer\n",
    "from sklearn.pipeline import Pipeline\n",
    "from sklearn.feature_selection import mutual_info_classif\n",
    "import seaborn as sns\n",
    "from faker import Faker\n",
    "import matplotlib.pyplot as plt"
   ]
  },
  {
   "cell_type": "code",
   "execution_count": 32,
   "metadata": {},
   "outputs": [],
   "source": [
    "# Load your dataset\n",
    "df = pd.read_csv('C:\\\\Users\\\\USER-PC\\\\Desktop\\\\ThesisCode\\\\Data\\\\Raw\\\\aug_test.csv')\n",
    "#test_data = pd.read_csv('C:\\\\Users\\\\USER-PC\\\\Desktop\\\\Thesis\\\\Data\\\\Preprocessed\\\\aug_test_processed.csv')\n",
    "answers = np.load('C:\\\\Users\\\\USER-PC\\\\Desktop\\\\ThesisCode\\\\Data\\\\Raw\\\\answer.npy')"
   ]
  },
  {
   "cell_type": "code",
   "execution_count": 33,
   "metadata": {},
   "outputs": [
    {
     "data": {
      "image/png": "[encoded data removed]",
      "text/plain": [
       "<Figure size 640x480 with 1 Axes>"
      ]
     },
     "metadata": {},
     "output_type": "display_data"
    }
   ],
   "source": [
    "# Count the number of occurrences of each class\n",
    "class_counts = np.bincount(answers)\n",
    "\n",
    "# Calculate the percentage of each class\n",
    "total_responses = len(answers)\n",
    "class_percentages = class_counts / total_responses * 100\n",
    "\n",
    "# Set the color palette\n",
    "palette = sns.color_palette('Dark2_r', 2)\n",
    "\n",
    "# Plotting the distribution of the response variable\n",
    "bars = plt.bar(['0', '1'], class_percentages, color=palette)\n",
    "\n",
    "# Adding percentage text on top of each bar\n",
    "for bar, percentage in zip(bars, class_percentages):\n",
    "    plt.text(bar.get_x() + bar.get_width() / 2, bar.get_height() - 5, f'{percentage:.2f}%', ha='center', va='bottom', color='white')\n",
    "\n",
    "plt.xlabel('Class')\n",
    "plt.ylabel('Percentage')\n",
    "plt.title('Response Count')\n",
    "plt.ylim(0, 100)  # Ensures the y-axis goes from 0 to 100%\n",
    "plt.show()"
   ]
  },
  {
   "cell_type": "code",
   "execution_count": 19,
   "metadata": {},
   "outputs": [
    {
     "data": {
      "text/html": [
       "<div>\n",
       "<style scoped>\n",
       "    .dataframe tbody tr th:only-of-type {\n",
       "        vertical-align: middle;\n",
       "    }\n",
       "\n",
       "    .dataframe tbody tr th {\n",
       "        vertical-align: top;\n",
       "    }\n",
       "\n",
       "    .dataframe thead th {\n",
       "        text-align: right;\n",
       "    }\n",
       "</style>\n",
       "<table border=\"1\" class=\"dataframe\">\n",
       "  <thead>\n",
       "    <tr style=\"text-align: right;\">\n",
       "      <th></th>\n",
       "      <th>id</th>\n",
       "      <th>Gender</th>\n",
       "      <th>Age</th>\n",
       "      <th>Driving_License</th>\n",
       "      <th>Region_Code</th>\n",
       "      <th>Previously_Insured</th>\n",
       "      <th>Vehicle_Age</th>\n",
       "      <th>Vehicle_Damage</th>\n",
       "      <th>Annual_Premium</th>\n",
       "      <th>Policy_Sales_Channel</th>\n",
       "      <th>Vintage</th>\n",
       "    </tr>\n",
       "  </thead>\n",
       "  <tbody>\n",
       "    <tr>\n",
       "      <th>0</th>\n",
       "      <td>57782</td>\n",
       "      <td>Female</td>\n",
       "      <td>34</td>\n",
       "      <td>1</td>\n",
       "      <td>39.0</td>\n",
       "      <td>1</td>\n",
       "      <td>1-2 Year</td>\n",
       "      <td>No</td>\n",
       "      <td>38244.0</td>\n",
       "      <td>124.0</td>\n",
       "      <td>146</td>\n",
       "    </tr>\n",
       "    <tr>\n",
       "      <th>1</th>\n",
       "      <td>286811</td>\n",
       "      <td>Female</td>\n",
       "      <td>55</td>\n",
       "      <td>1</td>\n",
       "      <td>28.0</td>\n",
       "      <td>0</td>\n",
       "      <td>&gt; 2 Years</td>\n",
       "      <td>Yes</td>\n",
       "      <td>37577.0</td>\n",
       "      <td>122.0</td>\n",
       "      <td>109</td>\n",
       "    </tr>\n",
       "    <tr>\n",
       "      <th>2</th>\n",
       "      <td>117823</td>\n",
       "      <td>Male</td>\n",
       "      <td>39</td>\n",
       "      <td>1</td>\n",
       "      <td>28.0</td>\n",
       "      <td>1</td>\n",
       "      <td>1-2 Year</td>\n",
       "      <td>No</td>\n",
       "      <td>24578.0</td>\n",
       "      <td>26.0</td>\n",
       "      <td>63</td>\n",
       "    </tr>\n",
       "    <tr>\n",
       "      <th>3</th>\n",
       "      <td>213992</td>\n",
       "      <td>Male</td>\n",
       "      <td>28</td>\n",
       "      <td>1</td>\n",
       "      <td>50.0</td>\n",
       "      <td>1</td>\n",
       "      <td>1-2 Year</td>\n",
       "      <td>No</td>\n",
       "      <td>40507.0</td>\n",
       "      <td>8.0</td>\n",
       "      <td>129</td>\n",
       "    </tr>\n",
       "    <tr>\n",
       "      <th>4</th>\n",
       "      <td>324756</td>\n",
       "      <td>Female</td>\n",
       "      <td>24</td>\n",
       "      <td>1</td>\n",
       "      <td>10.0</td>\n",
       "      <td>0</td>\n",
       "      <td>&lt; 1 Year</td>\n",
       "      <td>Yes</td>\n",
       "      <td>36783.0</td>\n",
       "      <td>152.0</td>\n",
       "      <td>201</td>\n",
       "    </tr>\n",
       "  </tbody>\n",
       "</table>\n",
       "</div>"
      ],
      "text/plain": [
       "       id  Gender  Age  Driving_License  Region_Code  Previously_Insured  \\\n",
       "0   57782  Female   34                1         39.0                   1   \n",
       "1  286811  Female   55                1         28.0                   0   \n",
       "2  117823    Male   39                1         28.0                   1   \n",
       "3  213992    Male   28                1         50.0                   1   \n",
       "4  324756  Female   24                1         10.0                   0   \n",
       "\n",
       "  Vehicle_Age Vehicle_Damage  Annual_Premium  Policy_Sales_Channel  Vintage  \n",
       "0    1-2 Year             No         38244.0                 124.0      146  \n",
       "1   > 2 Years            Yes         37577.0                 122.0      109  \n",
       "2    1-2 Year             No         24578.0                  26.0       63  \n",
       "3    1-2 Year             No         40507.0                   8.0      129  \n",
       "4    < 1 Year            Yes         36783.0                 152.0      201  "
      ]
     },
     "execution_count": 19,
     "metadata": {},
     "output_type": "execute_result"
    }
   ],
   "source": [
    "df.head()"
   ]
  },
  {
   "cell_type": "code",
   "execution_count": 34,
   "metadata": {},
   "outputs": [
    {
     "name": "stdout",
     "output_type": "stream",
     "text": [
      "Anonymized dataset saved to C:\\Users\\USER-PC\\Desktop\\ThesisCode\\Data\\Anonymized\\aug_test_anonymized.csv\n"
     ]
    }
   ],
   "source": [
    "# Initialize Faker\n",
    "fake = Faker()\n",
    "\n",
    "# Anonymizing 'id' by replacing it with a pseudonymized version, if exists\n",
    "if 'id' in df.columns:\n",
    "    id_map = {original_id: fake.uuid4() for original_id in df['id']}\n",
    "    df['id'] = df['id'].map(id_map)\n",
    "    \n",
    "# Generalizing 'Age' into Age Groups, if 'Age' exists\n",
    "df['Age_Group'] = df['Age'].apply(lambda x:'YoungAge' if x >= 18 and x<=30 else 'MiddleAge' if x>30 and x<=60 else 'OldAge')\n",
    "# Remove the 'Age' column from the DataFrame\n",
    "df.drop('Age', axis=1, inplace=True)\n",
    "# Save the anonymized DataFrame to a new CSV file\n",
    "anonymized_file_path = 'C:\\\\Users\\\\USER-PC\\\\Desktop\\\\ThesisCode\\\\Data\\\\Anonymized\\\\aug_test_anonymized.csv'\n",
    "df.to_csv(anonymized_file_path, index=False)\n",
    "\n",
    "print(f\"Anonymized dataset saved to {anonymized_file_path}\")\n"
   ]
  },
  {
   "cell_type": "code",
   "execution_count": 21,
   "metadata": {},
   "outputs": [],
   "source": [
    "# Miscellaneous\n",
    "import time\n",
    "from sklearn.preprocessing import MinMaxScaler\n",
    "import numpy as np\n",
    "def outlier_treatment(df):\n",
    "    Q1=df['Annual_Premium'].quantile(0.25)\n",
    "    Q3=df['Annual_Premium'].quantile(0.75)\n",
    "    IQR=Q3-Q1\n",
    "\n",
    "    Lower_Whisker = Q1-1.5*IQR\n",
    "    Upper_Whisker = Q3+1.5*IQR\n",
    "    df['Annual_Premium_Treated'] = np.where(df['Annual_Premium']>Upper_Whisker, Upper_Whisker, df['Annual_Premium'])\n",
    "\n",
    "def scale_features(df):\n",
    "    scaler = MinMaxScaler()\n",
    "\n",
    "    df['Annual_Premium_Treated'] = scaler.fit_transform(df['Annual_Premium_Treated'].values.reshape(-1,1))\n",
    "    df['Vintage_Treated'] = scaler.fit_transform(df['Vintage'].values.reshape(-1,1))\n",
    "\n",
    "outlier_treatment(df)\n",
    "#scale_features(da)"
   ]
  },
  {
   "cell_type": "code",
   "execution_count": 22,
   "metadata": {},
   "outputs": [
    {
     "name": "stdout",
     "output_type": "stream",
     "text": [
      "                                     id  Gender  Driving_License  Region_Code  \\\n",
      "0  adbf7b78-f465-4ec9-a665-eff1db7919f1  Female                1         39.0   \n",
      "1  a2e8a34d-7cb7-4142-82ea-96bb60f9664a  Female                1         28.0   \n",
      "2  10f641a2-5db5-4033-a836-8b8b3dfc2320    Male                1         28.0   \n",
      "3  f9d4009a-0824-47c3-bece-44a9b268c5bd    Male                1         50.0   \n",
      "4  cd5ac919-ea91-43f7-a0fd-d8c649ec6b5d  Female                1         10.0   \n",
      "\n",
      "   Previously_Insured Vehicle_Age Vehicle_Damage  Annual_Premium  \\\n",
      "0                   1    1-2 Year             No         38244.0   \n",
      "1                   0   > 2 Years            Yes         37577.0   \n",
      "2                   1    1-2 Year             No         24578.0   \n",
      "3                   1    1-2 Year             No         40507.0   \n",
      "4                   0    < 1 Year            Yes         36783.0   \n",
      "\n",
      "   Policy_Sales_Channel  Vintage  Age_Group  Annual_Premium_Treated  \\\n",
      "0                 124.0      146  MiddleAge                 38244.0   \n",
      "1                 122.0      109  MiddleAge                 37577.0   \n",
      "2                  26.0       63  MiddleAge                 24578.0   \n",
      "3                   8.0      129   YoungAge                 40507.0   \n",
      "4                 152.0      201   YoungAge                 36783.0   \n",
      "\n",
      "  Region_Category  \n",
      "0          Medium  \n",
      "1            High  \n",
      "2            High  \n",
      "3            High  \n",
      "4          Medium  \n"
     ]
    }
   ],
   "source": [
    "#This code will create a new column in the DataFrame called Region_Category,\n",
    "#which categorizes each Region_Code as 'High', 'Medium', or 'Low' based on how frequently each code appears relative to others.\n",
    "\n",
    "def categorize_region(df):\n",
    "    # Get the counts of each unique value in 'Region_Code'\n",
    "    region_counts = df['Region_Code'].value_counts()\n",
    "    \n",
    "    # Define thresholds for high, medium, and low frequency\n",
    "    high_threshold = region_counts.quantile(0.75)  # Top 25% of regions by frequency\n",
    "    medium_threshold = region_counts.quantile(0.25)  # Bottom 25% of regions by frequency\n",
    "    \n",
    "    # Function to apply to each region to determine its category\n",
    "    def get_region_category(region):\n",
    "        if region_counts[region] > high_threshold:\n",
    "            return 'High'\n",
    "        elif region_counts[region] < medium_threshold:\n",
    "            return 'Low'\n",
    "        else:\n",
    "            return 'Medium'\n",
    "    \n",
    "    # Apply the function to 'Region_Code' to create a new 'Region_Category' column\n",
    "    df['Region_Category'] = df['Region_Code'].apply(get_region_category)\n",
    "    \n",
    "    return df\n",
    "\n",
    "# Assuming 'df' is your DataFrame\n",
    "df = categorize_region(df)\n",
    "\n",
    "# Now, if you want to see the first few rows to check the new category\n",
    "print(df.head())"
   ]
  },
  {
   "cell_type": "code",
   "execution_count": 23,
   "metadata": {},
   "outputs": [],
   "source": [
    "# Drop the 'Annual_Premium' column from the DataFrame\n",
    "da=df\n",
    "da.drop('Annual_Premium', axis=1, inplace=True)\n",
    "\n",
    "# Find indices of rows to drop (those without a driving license or under 18)\n",
    "indices_to_drop = da[(da['Driving_License'] == 7)].index\n",
    "\n",
    "# Drop these rows using the indices\n",
    "df_dropped = da.drop(indices_to_drop)\n",
    "#print(da.count())\n",
    "#print(\"After deleting clients who they don't have Driving_license\")\n",
    "# Display the DataFrame to verify rows are dropped\n",
    "#print(df_dropped.count())\n"
   ]
  },
  {
   "cell_type": "code",
   "execution_count": 24,
   "metadata": {},
   "outputs": [
    {
     "name": "stdout",
     "output_type": "stream",
     "text": [
      "Data cleaning is done\n"
     ]
    }
   ],
   "source": [
    "df_dropped.to_csv('C:\\\\Users\\\\USER-PC\\\\Desktop\\\\ThesisCode\\\\Data\\\\Anonymized\\\\aug_test_anonymized.csv', index=False)\n",
    "print(\"Data cleaning is done\")\n"
   ]
  },
  {
   "cell_type": "code",
   "execution_count": 25,
   "metadata": {},
   "outputs": [
    {
     "name": "stdout",
     "output_type": "stream",
     "text": [
      "Index(['id', 'Gender', 'Driving_License', 'Region_Code', 'Previously_Insured',\n",
      "       'Vehicle_Age', 'Vehicle_Damage', 'Policy_Sales_Channel', 'Vintage',\n",
      "       'Age_Group', 'Annual_Premium_Treated', 'Region_Category'],\n",
      "      dtype='object')\n"
     ]
    }
   ],
   "source": [
    "df=df_dropped\n",
    "print(df.columns)\n"
   ]
  },
  {
   "cell_type": "code",
   "execution_count": 26,
   "metadata": {},
   "outputs": [],
   "source": [
    "df = df.drop(['Driving_License','Region_Code'], axis=1)\n",
    "x = df.drop(['id'], axis=1)"
   ]
  },
  {
   "cell_type": "markdown",
   "metadata": {},
   "source": [
    "# **Feature Selection**\n",
    "---"
   ]
  },
  {
   "cell_type": "markdown",
   "metadata": {},
   "source": [
    "## **Categorical Feature Selection**"
   ]
  },
  {
   "cell_type": "code",
   "execution_count": 27,
   "metadata": {},
   "outputs": [
    {
     "data": {
      "text/html": [
       "<div>\n",
       "<style scoped>\n",
       "    .dataframe tbody tr th:only-of-type {\n",
       "        vertical-align: middle;\n",
       "    }\n",
       "\n",
       "    .dataframe tbody tr th {\n",
       "        vertical-align: top;\n",
       "    }\n",
       "\n",
       "    .dataframe thead th {\n",
       "        text-align: right;\n",
       "    }\n",
       "</style>\n",
       "<table border=\"1\" class=\"dataframe\">\n",
       "  <thead>\n",
       "    <tr style=\"text-align: right;\">\n",
       "      <th></th>\n",
       "      <th>id</th>\n",
       "      <th>Gender</th>\n",
       "      <th>Previously_Insured</th>\n",
       "      <th>Vehicle_Age</th>\n",
       "      <th>Vehicle_Damage</th>\n",
       "      <th>Policy_Sales_Channel</th>\n",
       "      <th>Vintage</th>\n",
       "      <th>Age_Group</th>\n",
       "      <th>Annual_Premium_Treated</th>\n",
       "      <th>Region_Category</th>\n",
       "    </tr>\n",
       "  </thead>\n",
       "  <tbody>\n",
       "    <tr>\n",
       "      <th>0</th>\n",
       "      <td>adbf7b78-f465-4ec9-a665-eff1db7919f1</td>\n",
       "      <td>0</td>\n",
       "      <td>1</td>\n",
       "      <td>0</td>\n",
       "      <td>0</td>\n",
       "      <td>124.0</td>\n",
       "      <td>146</td>\n",
       "      <td>0</td>\n",
       "      <td>38244.0</td>\n",
       "      <td>2</td>\n",
       "    </tr>\n",
       "    <tr>\n",
       "      <th>1</th>\n",
       "      <td>a2e8a34d-7cb7-4142-82ea-96bb60f9664a</td>\n",
       "      <td>0</td>\n",
       "      <td>0</td>\n",
       "      <td>2</td>\n",
       "      <td>1</td>\n",
       "      <td>122.0</td>\n",
       "      <td>109</td>\n",
       "      <td>0</td>\n",
       "      <td>37577.0</td>\n",
       "      <td>0</td>\n",
       "    </tr>\n",
       "    <tr>\n",
       "      <th>2</th>\n",
       "      <td>10f641a2-5db5-4033-a836-8b8b3dfc2320</td>\n",
       "      <td>1</td>\n",
       "      <td>1</td>\n",
       "      <td>0</td>\n",
       "      <td>0</td>\n",
       "      <td>26.0</td>\n",
       "      <td>63</td>\n",
       "      <td>0</td>\n",
       "      <td>24578.0</td>\n",
       "      <td>0</td>\n",
       "    </tr>\n",
       "    <tr>\n",
       "      <th>3</th>\n",
       "      <td>f9d4009a-0824-47c3-bece-44a9b268c5bd</td>\n",
       "      <td>1</td>\n",
       "      <td>1</td>\n",
       "      <td>0</td>\n",
       "      <td>0</td>\n",
       "      <td>8.0</td>\n",
       "      <td>129</td>\n",
       "      <td>2</td>\n",
       "      <td>40507.0</td>\n",
       "      <td>0</td>\n",
       "    </tr>\n",
       "    <tr>\n",
       "      <th>4</th>\n",
       "      <td>cd5ac919-ea91-43f7-a0fd-d8c649ec6b5d</td>\n",
       "      <td>0</td>\n",
       "      <td>0</td>\n",
       "      <td>1</td>\n",
       "      <td>1</td>\n",
       "      <td>152.0</td>\n",
       "      <td>201</td>\n",
       "      <td>2</td>\n",
       "      <td>36783.0</td>\n",
       "      <td>2</td>\n",
       "    </tr>\n",
       "  </tbody>\n",
       "</table>\n",
       "</div>"
      ],
      "text/plain": [
       "                                     id  Gender  Previously_Insured  \\\n",
       "0  adbf7b78-f465-4ec9-a665-eff1db7919f1       0                   1   \n",
       "1  a2e8a34d-7cb7-4142-82ea-96bb60f9664a       0                   0   \n",
       "2  10f641a2-5db5-4033-a836-8b8b3dfc2320       1                   1   \n",
       "3  f9d4009a-0824-47c3-bece-44a9b268c5bd       1                   1   \n",
       "4  cd5ac919-ea91-43f7-a0fd-d8c649ec6b5d       0                   0   \n",
       "\n",
       "   Vehicle_Age  Vehicle_Damage  Policy_Sales_Channel  Vintage  Age_Group  \\\n",
       "0            0               0                 124.0      146          0   \n",
       "1            2               1                 122.0      109          0   \n",
       "2            0               0                  26.0       63          0   \n",
       "3            0               0                   8.0      129          2   \n",
       "4            1               1                 152.0      201          2   \n",
       "\n",
       "   Annual_Premium_Treated  Region_Category  \n",
       "0                 38244.0                2  \n",
       "1                 37577.0                0  \n",
       "2                 24578.0                0  \n",
       "3                 40507.0                0  \n",
       "4                 36783.0                2  "
      ]
     },
     "execution_count": 27,
     "metadata": {},
     "output_type": "execute_result"
    }
   ],
   "source": [
    "from sklearn.preprocessing import LabelEncoder\n",
    "\n",
    "# Initialize label encoders for the new dataset\n",
    "le_vehicle_age_new = LabelEncoder()\n",
    "le_vehicle_damage_new = LabelEncoder()\n",
    "le_age_new = LabelEncoder()\n",
    "le_gender_new = LabelEncoder()\n",
    "le_region_new = LabelEncoder()\n",
    "#le_vintage_new = LabelEncoder()\n",
    "#le_region_frequency= LabelEncoder()\n",
    "\n",
    "# Encode categorical columns in the new dataset\n",
    "df['Vehicle_Age'] = le_vehicle_age_new.fit_transform(df['Vehicle_Age'])\n",
    "df['Vehicle_Damage'] = le_vehicle_damage_new.fit_transform(df['Vehicle_Damage'])\n",
    "df['Age_Group'] = le_age_new.fit_transform(df['Age_Group'])\n",
    "df['Gender'] = le_age_new.fit_transform(df['Gender'])\n",
    "df['Region_Category'] = le_region_new.fit_transform(df['Region_Category'])\n",
    "\n",
    "df.head()"
   ]
  },
  {
   "cell_type": "code",
   "execution_count": 28,
   "metadata": {},
   "outputs": [],
   "source": [
    "#from sklearn.preprocessing import MinMaxScaler\n",
    "\n",
    "# Initialize MinMaxScaler\n",
    "#scaler = MinMaxScaler()\n",
    "\n",
    "# Select the numerical features for scaling\n",
    "#numerical_features = ['Policy_Sales_Channel', 'Vintage', 'Annual_Premium_Treated']\n",
    "\n",
    "# Scaling the selected features\n",
    "#df[numerical_features] = scaler.fit_transform(df[numerical_features])\n"
   ]
  },
  {
   "cell_type": "code",
   "execution_count": 29,
   "metadata": {},
   "outputs": [],
   "source": [
    "# Load the anonymized dataset and see the first rows\n",
    "anonymized_file_path = 'C:\\\\Users\\\\USER-PC\\\\Desktop\\\\ThesisCode\\\\Data\\\\Preprocessed\\\\aug_test_processed.csv'\n",
    "df.to_csv(anonymized_file_path, index=False)\n"
   ]
  },
  {
   "cell_type": "code",
   "execution_count": 30,
   "metadata": {},
   "outputs": [
    {
     "data": {
      "text/plain": [
       "0"
      ]
     },
     "execution_count": 30,
     "metadata": {},
     "output_type": "execute_result"
    }
   ],
   "source": [
    "# Dataset Duplicate Value Count\n",
    "len(df[df.duplicated()])"
   ]
  }
 ],
 "metadata": {
  "kernelspec": {
   "display_name": "Python 3",
   "language": "python",
   "name": "python3"
  },
  "language_info": {
   "codemirror_mode": {
    "name": "ipython",
    "version": 3
   },
   "file_extension": ".py",
   "mimetype": "text/x-python",
   "name": "python",
   "nbconvert_exporter": "python",
   "pygments_lexer": "ipython3",
   "version": "3.11.9"
  }
 },
 "nbformat": 4,
 "nbformat_minor": 2
}
