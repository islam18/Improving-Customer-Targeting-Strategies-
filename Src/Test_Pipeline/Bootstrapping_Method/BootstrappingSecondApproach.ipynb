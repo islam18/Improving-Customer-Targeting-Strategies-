{
 "cells": [
  {
   "cell_type": "code",
   "execution_count": 6,
   "metadata": {},
   "outputs": [],
   "source": [
    "\n",
    "import pandas as pd\n",
    "import numpy as np\n",
    "from sklearn.ensemble import RandomForestClassifier\n",
    "from sklearn.linear_model import LogisticRegression\n",
    "from sklearn.naive_bayes import GaussianNB\n",
    "from sklearn.metrics import recall_score\n",
    "from sklearn.utils import resample"
   ]
  },
  {
   "cell_type": "code",
   "execution_count": 7,
   "metadata": {},
   "outputs": [],
   "source": [
    "# Load your data\n",
    "data = pd.read_csv('C:\\\\Users\\\\USER-PC\\\\Desktop\\\\ThesisCode\\\\Data\\\\Preprocessed\\\\smote_balanced_dataset.csv')\n",
    "X = data.drop('Response', axis=1)\n",
    "y = data['Response']\n",
    "\n",
    "test_data = pd.read_csv('C:\\\\Users\\\\USER-PC\\\\Desktop\\\\ThesisCode\\\\Data\\\\Preprocessed\\\\aug_test_processed.csv')\n",
    "answers = np.load('C:\\\\Users\\\\USER-PC\\\\Desktop\\\\ThesisCode\\\\Data\\\\Raw\\\\answer.npy')\n",
    "X_test = test_data.drop('id', axis=1)  # Assuming 'id' column is not needed for prediction"
   ]
  },
  {
   "cell_type": "code",
   "execution_count": 8,
   "metadata": {},
   "outputs": [],
   "source": [
    "# Initialize the classifier\n",
    "clf = GaussianNB()\n"
   ]
  },
  {
   "cell_type": "code",
   "execution_count": null,
   "metadata": {},
   "outputs": [],
   "source": [
    "# Number of bootstrap samples\n",
    "n_iterations = 100 # Increased number of iterations for better statistical estimation\n",
    "recall_scores = []\n",
    "for i in range(n_iterations):\n",
    "    # Resample with replacement\n",
    "    X_resampled, y_resampled = resample(X, y, replace=True)\n",
    "    # Train the model\n",
    "    clf.fit(X_resampled, y_resampled)\n",
    "    # Predict on the original test set\n",
    "    y_pred = clf.predict(X_test)\n",
    "    # Calculate Recall score\n",
    "    score = recall_score(answers, y_pred)\n",
    "    recall_scores.append(score)\n"
   ]
  },
  {
   "cell_type": "code",
   "execution_count": 10,
   "metadata": {},
   "outputs": [
    {
     "name": "stdout",
     "output_type": "stream",
     "text": [
      "Mean Recall: 0.8862\n",
      "Standard Deviation: 0.0066\n",
      "95% Confidence Interval: (0.8778, 0.8937)\n"
     ]
    }
   ],
   "source": [
    "# Analysis of results\n",
    "mean_score = np.mean(recall_scores)\n",
    "std_dev = np.std(recall_scores)\n",
    "lower_bound = np.percentile(recall_scores, 2.5)\n",
    "upper_bound = np.percentile(recall_scores, 97.5)\n",
    "\n",
    "print(f\"Mean Recall: {mean_score:.4f}\")\n",
    "print(f\"Standard Deviation: {std_dev:.4f}\")\n",
    "print(f\"95% Confidence Interval: ({lower_bound:.4f}, {upper_bound:.4f})\")"
   ]
  }
 ],
 "metadata": {
  "kernelspec": {
   "display_name": "Python 3",
   "language": "python",
   "name": "python3"
  },
  "language_info": {
   "codemirror_mode": {
    "name": "ipython",
    "version": 3
   },
   "file_extension": ".py",
   "mimetype": "text/x-python",
   "name": "python",
   "nbconvert_exporter": "python",
   "pygments_lexer": "ipython3",
   "version": "3.11.9"
  }
 },
 "nbformat": 4,
 "nbformat_minor": 2
}
